{
  "nbformat": 4,
  "nbformat_minor": 0,
  "metadata": {
    "colab": {
      "provenance": [],
      "authorship_tag": "ABX9TyOrp+q+jZYkq/CVvL02pT+Z",
      "include_colab_link": true
    },
    "kernelspec": {
      "name": "python3",
      "display_name": "Python 3"
    },
    "language_info": {
      "name": "python"
    },
    "widgets": {
      "application/vnd.jupyter.widget-state+json": {
        "175db9c5b5ba4f6ea1f1ae0af2473afe": {
          "model_module": "@jupyter-widgets/controls",
          "model_name": "HBoxModel",
          "model_module_version": "1.5.0",
          "state": {
            "_dom_classes": [],
            "_model_module": "@jupyter-widgets/controls",
            "_model_module_version": "1.5.0",
            "_model_name": "HBoxModel",
            "_view_count": null,
            "_view_module": "@jupyter-widgets/controls",
            "_view_module_version": "1.5.0",
            "_view_name": "HBoxView",
            "box_style": "",
            "children": [
              "IPY_MODEL_a342053bb5a842a982c1a8a54fde61c7",
              "IPY_MODEL_658e768a56c547daae09213e3f7cd238",
              "IPY_MODEL_80c0a1ea57ab47309e51512787dd991b"
            ],
            "layout": "IPY_MODEL_2cb6693f7deb41b6ad02350f94dcc24b"
          }
        },
        "a342053bb5a842a982c1a8a54fde61c7": {
          "model_module": "@jupyter-widgets/controls",
          "model_name": "HTMLModel",
          "model_module_version": "1.5.0",
          "state": {
            "_dom_classes": [],
            "_model_module": "@jupyter-widgets/controls",
            "_model_module_version": "1.5.0",
            "_model_name": "HTMLModel",
            "_view_count": null,
            "_view_module": "@jupyter-widgets/controls",
            "_view_module_version": "1.5.0",
            "_view_name": "HTMLView",
            "description": "",
            "description_tooltip": null,
            "layout": "IPY_MODEL_387b5c5be6d84c3aaf15d17baf5acbd6",
            "placeholder": "​",
            "style": "IPY_MODEL_14dc122f7c2041c0b2d1dabe30dd9d8d",
            "value": "100%"
          }
        },
        "658e768a56c547daae09213e3f7cd238": {
          "model_module": "@jupyter-widgets/controls",
          "model_name": "FloatProgressModel",
          "model_module_version": "1.5.0",
          "state": {
            "_dom_classes": [],
            "_model_module": "@jupyter-widgets/controls",
            "_model_module_version": "1.5.0",
            "_model_name": "FloatProgressModel",
            "_view_count": null,
            "_view_module": "@jupyter-widgets/controls",
            "_view_module_version": "1.5.0",
            "_view_name": "ProgressView",
            "bar_style": "success",
            "description": "",
            "description_tooltip": null,
            "layout": "IPY_MODEL_8055526553514a20b5e7497519754333",
            "max": 5000,
            "min": 0,
            "orientation": "horizontal",
            "style": "IPY_MODEL_63d86f2e25e94af88171506f3d663524",
            "value": 5000
          }
        },
        "80c0a1ea57ab47309e51512787dd991b": {
          "model_module": "@jupyter-widgets/controls",
          "model_name": "HTMLModel",
          "model_module_version": "1.5.0",
          "state": {
            "_dom_classes": [],
            "_model_module": "@jupyter-widgets/controls",
            "_model_module_version": "1.5.0",
            "_model_name": "HTMLModel",
            "_view_count": null,
            "_view_module": "@jupyter-widgets/controls",
            "_view_module_version": "1.5.0",
            "_view_name": "HTMLView",
            "description": "",
            "description_tooltip": null,
            "layout": "IPY_MODEL_dc268fc350994853af029a95c3e9aaa9",
            "placeholder": "​",
            "style": "IPY_MODEL_7177f7ef8aab461491e102dfb11284e1",
            "value": " 5000/5000 [01:10&lt;00:00, 93.60it/s]"
          }
        },
        "2cb6693f7deb41b6ad02350f94dcc24b": {
          "model_module": "@jupyter-widgets/base",
          "model_name": "LayoutModel",
          "model_module_version": "1.2.0",
          "state": {
            "_model_module": "@jupyter-widgets/base",
            "_model_module_version": "1.2.0",
            "_model_name": "LayoutModel",
            "_view_count": null,
            "_view_module": "@jupyter-widgets/base",
            "_view_module_version": "1.2.0",
            "_view_name": "LayoutView",
            "align_content": null,
            "align_items": null,
            "align_self": null,
            "border": null,
            "bottom": null,
            "display": null,
            "flex": null,
            "flex_flow": null,
            "grid_area": null,
            "grid_auto_columns": null,
            "grid_auto_flow": null,
            "grid_auto_rows": null,
            "grid_column": null,
            "grid_gap": null,
            "grid_row": null,
            "grid_template_areas": null,
            "grid_template_columns": null,
            "grid_template_rows": null,
            "height": null,
            "justify_content": null,
            "justify_items": null,
            "left": null,
            "margin": null,
            "max_height": null,
            "max_width": null,
            "min_height": null,
            "min_width": null,
            "object_fit": null,
            "object_position": null,
            "order": null,
            "overflow": null,
            "overflow_x": null,
            "overflow_y": null,
            "padding": null,
            "right": null,
            "top": null,
            "visibility": null,
            "width": null
          }
        },
        "387b5c5be6d84c3aaf15d17baf5acbd6": {
          "model_module": "@jupyter-widgets/base",
          "model_name": "LayoutModel",
          "model_module_version": "1.2.0",
          "state": {
            "_model_module": "@jupyter-widgets/base",
            "_model_module_version": "1.2.0",
            "_model_name": "LayoutModel",
            "_view_count": null,
            "_view_module": "@jupyter-widgets/base",
            "_view_module_version": "1.2.0",
            "_view_name": "LayoutView",
            "align_content": null,
            "align_items": null,
            "align_self": null,
            "border": null,
            "bottom": null,
            "display": null,
            "flex": null,
            "flex_flow": null,
            "grid_area": null,
            "grid_auto_columns": null,
            "grid_auto_flow": null,
            "grid_auto_rows": null,
            "grid_column": null,
            "grid_gap": null,
            "grid_row": null,
            "grid_template_areas": null,
            "grid_template_columns": null,
            "grid_template_rows": null,
            "height": null,
            "justify_content": null,
            "justify_items": null,
            "left": null,
            "margin": null,
            "max_height": null,
            "max_width": null,
            "min_height": null,
            "min_width": null,
            "object_fit": null,
            "object_position": null,
            "order": null,
            "overflow": null,
            "overflow_x": null,
            "overflow_y": null,
            "padding": null,
            "right": null,
            "top": null,
            "visibility": null,
            "width": null
          }
        },
        "14dc122f7c2041c0b2d1dabe30dd9d8d": {
          "model_module": "@jupyter-widgets/controls",
          "model_name": "DescriptionStyleModel",
          "model_module_version": "1.5.0",
          "state": {
            "_model_module": "@jupyter-widgets/controls",
            "_model_module_version": "1.5.0",
            "_model_name": "DescriptionStyleModel",
            "_view_count": null,
            "_view_module": "@jupyter-widgets/base",
            "_view_module_version": "1.2.0",
            "_view_name": "StyleView",
            "description_width": ""
          }
        },
        "8055526553514a20b5e7497519754333": {
          "model_module": "@jupyter-widgets/base",
          "model_name": "LayoutModel",
          "model_module_version": "1.2.0",
          "state": {
            "_model_module": "@jupyter-widgets/base",
            "_model_module_version": "1.2.0",
            "_model_name": "LayoutModel",
            "_view_count": null,
            "_view_module": "@jupyter-widgets/base",
            "_view_module_version": "1.2.0",
            "_view_name": "LayoutView",
            "align_content": null,
            "align_items": null,
            "align_self": null,
            "border": null,
            "bottom": null,
            "display": null,
            "flex": null,
            "flex_flow": null,
            "grid_area": null,
            "grid_auto_columns": null,
            "grid_auto_flow": null,
            "grid_auto_rows": null,
            "grid_column": null,
            "grid_gap": null,
            "grid_row": null,
            "grid_template_areas": null,
            "grid_template_columns": null,
            "grid_template_rows": null,
            "height": null,
            "justify_content": null,
            "justify_items": null,
            "left": null,
            "margin": null,
            "max_height": null,
            "max_width": null,
            "min_height": null,
            "min_width": null,
            "object_fit": null,
            "object_position": null,
            "order": null,
            "overflow": null,
            "overflow_x": null,
            "overflow_y": null,
            "padding": null,
            "right": null,
            "top": null,
            "visibility": null,
            "width": null
          }
        },
        "63d86f2e25e94af88171506f3d663524": {
          "model_module": "@jupyter-widgets/controls",
          "model_name": "ProgressStyleModel",
          "model_module_version": "1.5.0",
          "state": {
            "_model_module": "@jupyter-widgets/controls",
            "_model_module_version": "1.5.0",
            "_model_name": "ProgressStyleModel",
            "_view_count": null,
            "_view_module": "@jupyter-widgets/base",
            "_view_module_version": "1.2.0",
            "_view_name": "StyleView",
            "bar_color": null,
            "description_width": ""
          }
        },
        "dc268fc350994853af029a95c3e9aaa9": {
          "model_module": "@jupyter-widgets/base",
          "model_name": "LayoutModel",
          "model_module_version": "1.2.0",
          "state": {
            "_model_module": "@jupyter-widgets/base",
            "_model_module_version": "1.2.0",
            "_model_name": "LayoutModel",
            "_view_count": null,
            "_view_module": "@jupyter-widgets/base",
            "_view_module_version": "1.2.0",
            "_view_name": "LayoutView",
            "align_content": null,
            "align_items": null,
            "align_self": null,
            "border": null,
            "bottom": null,
            "display": null,
            "flex": null,
            "flex_flow": null,
            "grid_area": null,
            "grid_auto_columns": null,
            "grid_auto_flow": null,
            "grid_auto_rows": null,
            "grid_column": null,
            "grid_gap": null,
            "grid_row": null,
            "grid_template_areas": null,
            "grid_template_columns": null,
            "grid_template_rows": null,
            "height": null,
            "justify_content": null,
            "justify_items": null,
            "left": null,
            "margin": null,
            "max_height": null,
            "max_width": null,
            "min_height": null,
            "min_width": null,
            "object_fit": null,
            "object_position": null,
            "order": null,
            "overflow": null,
            "overflow_x": null,
            "overflow_y": null,
            "padding": null,
            "right": null,
            "top": null,
            "visibility": null,
            "width": null
          }
        },
        "7177f7ef8aab461491e102dfb11284e1": {
          "model_module": "@jupyter-widgets/controls",
          "model_name": "DescriptionStyleModel",
          "model_module_version": "1.5.0",
          "state": {
            "_model_module": "@jupyter-widgets/controls",
            "_model_module_version": "1.5.0",
            "_model_name": "DescriptionStyleModel",
            "_view_count": null,
            "_view_module": "@jupyter-widgets/base",
            "_view_module_version": "1.2.0",
            "_view_name": "StyleView",
            "description_width": ""
          }
        },
        "fb083a3fe7554eca88c47136de45cb81": {
          "model_module": "@jupyter-widgets/controls",
          "model_name": "HBoxModel",
          "model_module_version": "1.5.0",
          "state": {
            "_dom_classes": [],
            "_model_module": "@jupyter-widgets/controls",
            "_model_module_version": "1.5.0",
            "_model_name": "HBoxModel",
            "_view_count": null,
            "_view_module": "@jupyter-widgets/controls",
            "_view_module_version": "1.5.0",
            "_view_name": "HBoxView",
            "box_style": "",
            "children": [
              "IPY_MODEL_6e04e42ba9af4102b55636a1838ad252",
              "IPY_MODEL_0cc1f259f0b44e99aee85ea4c8e1d19e",
              "IPY_MODEL_fc794f13bd9047a58fe9e3264d6cf883"
            ],
            "layout": "IPY_MODEL_3eb2575c6fbf4de38cba6c3eb4698ab4"
          }
        },
        "6e04e42ba9af4102b55636a1838ad252": {
          "model_module": "@jupyter-widgets/controls",
          "model_name": "HTMLModel",
          "model_module_version": "1.5.0",
          "state": {
            "_dom_classes": [],
            "_model_module": "@jupyter-widgets/controls",
            "_model_module_version": "1.5.0",
            "_model_name": "HTMLModel",
            "_view_count": null,
            "_view_module": "@jupyter-widgets/controls",
            "_view_module_version": "1.5.0",
            "_view_name": "HTMLView",
            "description": "",
            "description_tooltip": null,
            "layout": "IPY_MODEL_0ad8497cae034b4d82c6b269837ed928",
            "placeholder": "​",
            "style": "IPY_MODEL_70bac17f2fea49289f37024dc4c924eb",
            "value": "100%"
          }
        },
        "0cc1f259f0b44e99aee85ea4c8e1d19e": {
          "model_module": "@jupyter-widgets/controls",
          "model_name": "FloatProgressModel",
          "model_module_version": "1.5.0",
          "state": {
            "_dom_classes": [],
            "_model_module": "@jupyter-widgets/controls",
            "_model_module_version": "1.5.0",
            "_model_name": "FloatProgressModel",
            "_view_count": null,
            "_view_module": "@jupyter-widgets/controls",
            "_view_module_version": "1.5.0",
            "_view_name": "ProgressView",
            "bar_style": "success",
            "description": "",
            "description_tooltip": null,
            "layout": "IPY_MODEL_29df96a0e32546299eac799db149dc8a",
            "max": 5000,
            "min": 0,
            "orientation": "horizontal",
            "style": "IPY_MODEL_467b64bdad944ffe99dd7c27270bb4ec",
            "value": 5000
          }
        },
        "fc794f13bd9047a58fe9e3264d6cf883": {
          "model_module": "@jupyter-widgets/controls",
          "model_name": "HTMLModel",
          "model_module_version": "1.5.0",
          "state": {
            "_dom_classes": [],
            "_model_module": "@jupyter-widgets/controls",
            "_model_module_version": "1.5.0",
            "_model_name": "HTMLModel",
            "_view_count": null,
            "_view_module": "@jupyter-widgets/controls",
            "_view_module_version": "1.5.0",
            "_view_name": "HTMLView",
            "description": "",
            "description_tooltip": null,
            "layout": "IPY_MODEL_2592ad7c4e7745e2b4f275b8880a8f3f",
            "placeholder": "​",
            "style": "IPY_MODEL_e26c96f3bc444d2bbaeaefb2c24f106b",
            "value": " 5000/5000 [01:04&lt;00:00, 106.12it/s]"
          }
        },
        "3eb2575c6fbf4de38cba6c3eb4698ab4": {
          "model_module": "@jupyter-widgets/base",
          "model_name": "LayoutModel",
          "model_module_version": "1.2.0",
          "state": {
            "_model_module": "@jupyter-widgets/base",
            "_model_module_version": "1.2.0",
            "_model_name": "LayoutModel",
            "_view_count": null,
            "_view_module": "@jupyter-widgets/base",
            "_view_module_version": "1.2.0",
            "_view_name": "LayoutView",
            "align_content": null,
            "align_items": null,
            "align_self": null,
            "border": null,
            "bottom": null,
            "display": null,
            "flex": null,
            "flex_flow": null,
            "grid_area": null,
            "grid_auto_columns": null,
            "grid_auto_flow": null,
            "grid_auto_rows": null,
            "grid_column": null,
            "grid_gap": null,
            "grid_row": null,
            "grid_template_areas": null,
            "grid_template_columns": null,
            "grid_template_rows": null,
            "height": null,
            "justify_content": null,
            "justify_items": null,
            "left": null,
            "margin": null,
            "max_height": null,
            "max_width": null,
            "min_height": null,
            "min_width": null,
            "object_fit": null,
            "object_position": null,
            "order": null,
            "overflow": null,
            "overflow_x": null,
            "overflow_y": null,
            "padding": null,
            "right": null,
            "top": null,
            "visibility": null,
            "width": null
          }
        },
        "0ad8497cae034b4d82c6b269837ed928": {
          "model_module": "@jupyter-widgets/base",
          "model_name": "LayoutModel",
          "model_module_version": "1.2.0",
          "state": {
            "_model_module": "@jupyter-widgets/base",
            "_model_module_version": "1.2.0",
            "_model_name": "LayoutModel",
            "_view_count": null,
            "_view_module": "@jupyter-widgets/base",
            "_view_module_version": "1.2.0",
            "_view_name": "LayoutView",
            "align_content": null,
            "align_items": null,
            "align_self": null,
            "border": null,
            "bottom": null,
            "display": null,
            "flex": null,
            "flex_flow": null,
            "grid_area": null,
            "grid_auto_columns": null,
            "grid_auto_flow": null,
            "grid_auto_rows": null,
            "grid_column": null,
            "grid_gap": null,
            "grid_row": null,
            "grid_template_areas": null,
            "grid_template_columns": null,
            "grid_template_rows": null,
            "height": null,
            "justify_content": null,
            "justify_items": null,
            "left": null,
            "margin": null,
            "max_height": null,
            "max_width": null,
            "min_height": null,
            "min_width": null,
            "object_fit": null,
            "object_position": null,
            "order": null,
            "overflow": null,
            "overflow_x": null,
            "overflow_y": null,
            "padding": null,
            "right": null,
            "top": null,
            "visibility": null,
            "width": null
          }
        },
        "70bac17f2fea49289f37024dc4c924eb": {
          "model_module": "@jupyter-widgets/controls",
          "model_name": "DescriptionStyleModel",
          "model_module_version": "1.5.0",
          "state": {
            "_model_module": "@jupyter-widgets/controls",
            "_model_module_version": "1.5.0",
            "_model_name": "DescriptionStyleModel",
            "_view_count": null,
            "_view_module": "@jupyter-widgets/base",
            "_view_module_version": "1.2.0",
            "_view_name": "StyleView",
            "description_width": ""
          }
        },
        "29df96a0e32546299eac799db149dc8a": {
          "model_module": "@jupyter-widgets/base",
          "model_name": "LayoutModel",
          "model_module_version": "1.2.0",
          "state": {
            "_model_module": "@jupyter-widgets/base",
            "_model_module_version": "1.2.0",
            "_model_name": "LayoutModel",
            "_view_count": null,
            "_view_module": "@jupyter-widgets/base",
            "_view_module_version": "1.2.0",
            "_view_name": "LayoutView",
            "align_content": null,
            "align_items": null,
            "align_self": null,
            "border": null,
            "bottom": null,
            "display": null,
            "flex": null,
            "flex_flow": null,
            "grid_area": null,
            "grid_auto_columns": null,
            "grid_auto_flow": null,
            "grid_auto_rows": null,
            "grid_column": null,
            "grid_gap": null,
            "grid_row": null,
            "grid_template_areas": null,
            "grid_template_columns": null,
            "grid_template_rows": null,
            "height": null,
            "justify_content": null,
            "justify_items": null,
            "left": null,
            "margin": null,
            "max_height": null,
            "max_width": null,
            "min_height": null,
            "min_width": null,
            "object_fit": null,
            "object_position": null,
            "order": null,
            "overflow": null,
            "overflow_x": null,
            "overflow_y": null,
            "padding": null,
            "right": null,
            "top": null,
            "visibility": null,
            "width": null
          }
        },
        "467b64bdad944ffe99dd7c27270bb4ec": {
          "model_module": "@jupyter-widgets/controls",
          "model_name": "ProgressStyleModel",
          "model_module_version": "1.5.0",
          "state": {
            "_model_module": "@jupyter-widgets/controls",
            "_model_module_version": "1.5.0",
            "_model_name": "ProgressStyleModel",
            "_view_count": null,
            "_view_module": "@jupyter-widgets/base",
            "_view_module_version": "1.2.0",
            "_view_name": "StyleView",
            "bar_color": null,
            "description_width": ""
          }
        },
        "2592ad7c4e7745e2b4f275b8880a8f3f": {
          "model_module": "@jupyter-widgets/base",
          "model_name": "LayoutModel",
          "model_module_version": "1.2.0",
          "state": {
            "_model_module": "@jupyter-widgets/base",
            "_model_module_version": "1.2.0",
            "_model_name": "LayoutModel",
            "_view_count": null,
            "_view_module": "@jupyter-widgets/base",
            "_view_module_version": "1.2.0",
            "_view_name": "LayoutView",
            "align_content": null,
            "align_items": null,
            "align_self": null,
            "border": null,
            "bottom": null,
            "display": null,
            "flex": null,
            "flex_flow": null,
            "grid_area": null,
            "grid_auto_columns": null,
            "grid_auto_flow": null,
            "grid_auto_rows": null,
            "grid_column": null,
            "grid_gap": null,
            "grid_row": null,
            "grid_template_areas": null,
            "grid_template_columns": null,
            "grid_template_rows": null,
            "height": null,
            "justify_content": null,
            "justify_items": null,
            "left": null,
            "margin": null,
            "max_height": null,
            "max_width": null,
            "min_height": null,
            "min_width": null,
            "object_fit": null,
            "object_position": null,
            "order": null,
            "overflow": null,
            "overflow_x": null,
            "overflow_y": null,
            "padding": null,
            "right": null,
            "top": null,
            "visibility": null,
            "width": null
          }
        },
        "e26c96f3bc444d2bbaeaefb2c24f106b": {
          "model_module": "@jupyter-widgets/controls",
          "model_name": "DescriptionStyleModel",
          "model_module_version": "1.5.0",
          "state": {
            "_model_module": "@jupyter-widgets/controls",
            "_model_module_version": "1.5.0",
            "_model_name": "DescriptionStyleModel",
            "_view_count": null,
            "_view_module": "@jupyter-widgets/base",
            "_view_module_version": "1.2.0",
            "_view_name": "StyleView",
            "description_width": ""
          }
        }
      }
    }
  },
  "cells": [
    {
      "cell_type": "markdown",
      "metadata": {
        "id": "view-in-github",
        "colab_type": "text"
      },
      "source": [
        "<a href=\"https://colab.research.google.com/github/amirhoseinoveis/LIME_with_MSTAR/blob/main/LIME_with_MSTAR.ipynb\" target=\"_parent\"><img src=\"https://colab.research.google.com/assets/colab-badge.svg\" alt=\"Open In Colab\"/></a>"
      ]
    },
    {
      "cell_type": "markdown",
      "source": [
        "**Let's import the necessary libraries**"
      ],
      "metadata": {
        "id": "Z9WXlStq66o-"
      }
    },
    {
      "cell_type": "code",
      "execution_count": 1,
      "metadata": {
        "id": "iCtW9vW1kgJX"
      },
      "outputs": [],
      "source": [
        "import tensorflow as tf\n",
        "from tensorflow.keras.layers import  Input, Activation, Flatten, Conv2D, MaxPooling2D,  Dense\n",
        "import numpy as np\n",
        "from tensorflow.keras.models import Model\n",
        "from tensorflow.keras.optimizers import Adam\n",
        "from tensorflow.keras.utils import to_categorical\n",
        "from tensorflow.keras.losses import CategoricalCrossentropy\n",
        "import matplotlib.pyplot as plt\n",
        "import os\n"
      ]
    },
    {
      "cell_type": "markdown",
      "source": [
        "**You can download the MSTAR database - only 3 classes for this example - from my GitHub page**"
      ],
      "metadata": {
        "id": "D5M-rXVB7GUw"
      }
    },
    {
      "cell_type": "code",
      "source": [
        "github_url = 'https://raw.githubusercontent.com/amirhoseinoveis/LIME_with_MSTAR/7f0ea0868eec651540c373570060728392070ff5/mstar_3cl_32by32.npz'\n",
        "\n",
        "# Download the file using wget\n",
        "path = '/content/mstar_3cl_32by32.npz'\n",
        "os.system(f'wget {github_url} -O {path}')\n",
        "\n",
        "# Load the data using np.load\n",
        "with np.load(path) as data_mstar:\n",
        "    x_train_mstar = data_mstar['x_train']\n",
        "    y_train_mstar = data_mstar['y_train']\n",
        "    x_test_mstar = data_mstar['x_test']\n",
        "    y_test_mstar = data_mstar['y_test']\n",
        "x_train_mstar=np.concatenate([x_train_mstar,x_train_mstar,x_train_mstar],axis=-1)\n",
        "x_test_mstar=np.concatenate([x_test_mstar,x_test_mstar,x_test_mstar],axis=-1)\n"
      ],
      "metadata": {
        "id": "VelKoGssuuzv"
      },
      "execution_count": 3,
      "outputs": []
    },
    {
      "cell_type": "markdown",
      "source": [
        "**Let’s define a very simple CNN using the Tensorflow.keras library as**\n",
        "\n",
        "\n",
        "\n"
      ],
      "metadata": {
        "id": "7I98dhmp4zxX"
      }
    },
    {
      "cell_type": "code",
      "source": [
        "\n",
        "inputs = Input(shape=(32,32,3),name=\"Input\")\n",
        "x = Conv2D(32, 3, activation=\"relu\", padding='same',name='Conv1')(inputs)\n",
        "x = MaxPooling2D(2,name='Pool1')(x)\n",
        "x = Conv2D(16, 3, activation=\"relu\",padding='same',name='Conv2')(x)\n",
        "x = MaxPooling2D(2,name='Pool2')(x)\n",
        "x = Flatten(name='Vectorize')(x)\n",
        "x= Dense(3,name='FC')(x)\n",
        "outputs= Activation(\"softmax\",name='Softmax')(x)\n",
        "model = Model(inputs, outputs)\n",
        "model.compile(optimizer=Adam(learning_rate=0.001), loss=CategoricalCrossentropy(), metrics=['acc'])\n",
        "model.summary()\n"
      ],
      "metadata": {
        "colab": {
          "base_uri": "https://localhost:8080/"
        },
        "id": "DMpFpbtzwmM6",
        "outputId": "133df3ca-3163-4b39-81cc-524340d14236"
      },
      "execution_count": 4,
      "outputs": [
        {
          "output_type": "stream",
          "name": "stdout",
          "text": [
            "Model: \"model\"\n",
            "_________________________________________________________________\n",
            " Layer (type)                Output Shape              Param #   \n",
            "=================================================================\n",
            " Input (InputLayer)          [(None, 32, 32, 3)]       0         \n",
            "                                                                 \n",
            " Conv1 (Conv2D)              (None, 32, 32, 32)        896       \n",
            "                                                                 \n",
            " Pool1 (MaxPooling2D)        (None, 16, 16, 32)        0         \n",
            "                                                                 \n",
            " Conv2 (Conv2D)              (None, 16, 16, 16)        4624      \n",
            "                                                                 \n",
            " Pool2 (MaxPooling2D)        (None, 8, 8, 16)          0         \n",
            "                                                                 \n",
            " Vectorize (Flatten)         (None, 1024)              0         \n",
            "                                                                 \n",
            " FC (Dense)                  (None, 3)                 3075      \n",
            "                                                                 \n",
            " Softmax (Activation)        (None, 3)                 0         \n",
            "                                                                 \n",
            "=================================================================\n",
            "Total params: 8595 (33.57 KB)\n",
            "Trainable params: 8595 (33.57 KB)\n",
            "Non-trainable params: 0 (0.00 Byte)\n",
            "_________________________________________________________________\n"
          ]
        }
      ]
    },
    {
      "cell_type": "markdown",
      "source": [
        "**Now we train the model by the training database.**"
      ],
      "metadata": {
        "id": "D2E02NBG4_6o"
      }
    },
    {
      "cell_type": "code",
      "source": [
        "\n",
        "hist = model.fit(\n",
        "x_train_mstar,\n",
        "to_categorical(y_train_mstar, 3),  # One-hot encode your labels\n",
        "batch_size=32,\n",
        "epochs=10,\n",
        "validation_split=0.15,\n",
        "shuffle='on',\n",
        ")\n"
      ],
      "metadata": {
        "colab": {
          "base_uri": "https://localhost:8080/"
        },
        "id": "9aSGsRUsxh2w",
        "outputId": "94c4ee8d-d3fa-4437-d9e1-635d34fe2c9d"
      },
      "execution_count": 5,
      "outputs": [
        {
          "output_type": "stream",
          "name": "stdout",
          "text": [
            "Epoch 1/10\n",
            "19/19 [==============================] - 2s 47ms/step - loss: 1.0668 - acc: 0.3367 - val_loss: 1.0063 - val_acc: 0.3333\n",
            "Epoch 2/10\n",
            "19/19 [==============================] - 1s 36ms/step - loss: 0.9664 - acc: 0.4907 - val_loss: 0.8808 - val_acc: 0.5714\n",
            "Epoch 3/10\n",
            "19/19 [==============================] - 1s 34ms/step - loss: 0.8179 - acc: 0.6531 - val_loss: 0.7089 - val_acc: 0.6762\n",
            "Epoch 4/10\n",
            "19/19 [==============================] - 1s 68ms/step - loss: 0.6684 - acc: 0.7310 - val_loss: 0.6263 - val_acc: 0.6667\n",
            "Epoch 5/10\n",
            "19/19 [==============================] - 1s 68ms/step - loss: 0.5454 - acc: 0.7496 - val_loss: 0.4794 - val_acc: 0.7810\n",
            "Epoch 6/10\n",
            "19/19 [==============================] - 1s 69ms/step - loss: 0.4381 - acc: 0.8511 - val_loss: 0.3584 - val_acc: 0.9333\n",
            "Epoch 7/10\n",
            "19/19 [==============================] - 1s 80ms/step - loss: 0.3576 - acc: 0.8900 - val_loss: 0.3201 - val_acc: 0.9048\n",
            "Epoch 8/10\n",
            "19/19 [==============================] - 1s 48ms/step - loss: 0.2630 - acc: 0.9374 - val_loss: 0.2545 - val_acc: 0.9333\n",
            "Epoch 9/10\n",
            "19/19 [==============================] - 1s 35ms/step - loss: 0.2092 - acc: 0.9459 - val_loss: 0.1825 - val_acc: 0.9714\n",
            "Epoch 10/10\n",
            "19/19 [==============================] - 1s 35ms/step - loss: 0.1639 - acc: 0.9662 - val_loss: 0.1966 - val_acc: 0.9619\n"
          ]
        }
      ]
    },
    {
      "cell_type": "markdown",
      "source": [
        "**We can visulize the training process over different epochs**"
      ],
      "metadata": {
        "id": "u-WeYXY15HPQ"
      }
    },
    {
      "cell_type": "code",
      "source": [
        "\n",
        "plt.figure(1)\n",
        "plt.plot(hist.history['loss'])\n",
        "plt.plot(hist.history['val_loss'])\n",
        "plt.title('Model loss')\n",
        "plt.ylabel('Loss')\n",
        "plt.xlabel('Epoch')\n",
        "plt.legend(['Train', 'Val'], loc='upper right')\n",
        "plt.grid(\"on\")\n",
        "plt.show()\n",
        "\n",
        "plt.figure(3)\n",
        "plt.plot(hist.history['acc'])\n",
        "plt.plot(hist.history['val_acc'])\n",
        "plt.title('Model accuracy')\n",
        "plt.ylabel('Accuracy')\n",
        "plt.xlabel('Epoch')\n",
        "plt.legend(['Train', 'Val'], loc='upper right')\n",
        "plt.grid(\"on\")\n",
        "plt.show()\n"
      ],
      "metadata": {
        "colab": {
          "base_uri": "https://localhost:8080/",
          "height": 927
        },
        "id": "GOAXfJlOxi-u",
        "outputId": "6eacdf21-b2cb-45e4-c377-baf36a3157b1"
      },
      "execution_count": 7,
      "outputs": [
        {
          "output_type": "display_data",
          "data": {
            "text/plain": [
              "<Figure size 640x480 with 1 Axes>"
            ],
            "image/png": "[encoded data removed]"
          },
          "metadata": {}
        },
        {
          "output_type": "display_data",
          "data": {
            "text/plain": [
              "<Figure size 640x480 with 1 Axes>"
            ],
            "image/png": "[encoded data removed]"
          },
          "metadata": {}
        }
      ]
    },
    {
      "cell_type": "markdown",
      "source": [
        "**After training, the network can predict the class of the test database:**"
      ],
      "metadata": {
        "id": "aFKkY2C-5EVA"
      }
    },
    {
      "cell_type": "code",
      "source": [
        "classes_in=[0,1,2]\n",
        "y_hat=model.predict(x_test_mstar)#test the model, prob.\n",
        "\n",
        "y_hat_cl=y_hat.argmax(1) #prob. to class\n",
        "CM=np.zeros([len(classes_in),len(classes_in)])# Confusion matrix,\n",
        "for k in range(y_test_mstar.shape[0]):\n",
        "    CM[y_test_mstar[k],y_hat_cl[k]]=CM[y_test_mstar[k],y_hat_cl[k]]+1\n",
        "\n",
        "# Display confusion matrix\n",
        "print(\"Confusion Matrix:\")\n",
        "for i in range(len(classes_in)):\n",
        "    row_str = \"| \"\n",
        "    for j in range(len(classes_in)):\n",
        "        row_str += f\"{int(CM[i, j]):>4} | \"\n",
        "    print(row_str)\n",
        "print('Acc=',np.sum(y_hat_cl==y_test_mstar)/y_test_mstar.shape[0])"
      ],
      "metadata": {
        "colab": {
          "base_uri": "https://localhost:8080/"
        },
        "id": "-Mbynv20xsXO",
        "outputId": "c711dc2a-c7c3-4041-a3b2-6299c736024f"
      },
      "execution_count": 8,
      "outputs": [
        {
          "output_type": "stream",
          "name": "stdout",
          "text": [
            "26/26 [==============================] - 0s 10ms/step\n",
            "Confusion Matrix:\n",
            "|  236 |   36 |    2 | \n",
            "|    3 |  269 |    2 | \n",
            "|    2 |    1 |  271 | \n",
            "Acc= 0.9440389294403893\n"
          ]
        }
      ]
    },
    {
      "cell_type": "markdown",
      "source": [
        "\n",
        "\n",
        "**Now Install LIME and Import the necessary libraries**\n",
        "\n",
        "![LIME.jpg](data:image/jpeg;base64,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)"
      ],
      "metadata": {
        "id": "k05F8QRF2EiA"
      }
    },
    {
      "cell_type": "code",
      "source": [
        "pip install lime"
      ],
      "metadata": {
        "colab": {
          "base_uri": "https://localhost:8080/"
        },
        "id": "VtyVsaLN2r4v",
        "outputId": "e9128943-7b3a-4845-c089-a47901f5bc74"
      },
      "execution_count": 9,
      "outputs": [
        {
          "output_type": "stream",
          "name": "stdout",
          "text": [
            "Collecting lime\n",
            "  Downloading lime-0.2.0.1.tar.gz (275 kB)\n",
            "\u001b[2K     \u001b[90m━━━━━━━━━━━━━━━━━━━━━━━━━━━━━━━━━━━━━━━━\u001b[0m \u001b[32m275.7/275.7 kB\u001b[0m \u001b[31m2.2 MB/s\u001b[0m eta \u001b[36m0:00:00\u001b[0m\n",
            "\u001b[?25h  Preparing metadata (setup.py) ... \u001b[?25l\u001b[?25hdone\n",
            "Requirement already satisfied: matplotlib in /usr/local/lib/python3.10/dist-packages (from lime) (3.7.1)\n",
            "Requirement already satisfied: numpy in /usr/local/lib/python3.10/dist-packages (from lime) (1.23.5)\n",
            "Requirement already satisfied: scipy in /usr/local/lib/python3.10/dist-packages (from lime) (1.11.4)\n",
            "Requirement already satisfied: tqdm in /usr/local/lib/python3.10/dist-packages (from lime) (4.66.1)\n",
            "Requirement already satisfied: scikit-learn>=0.18 in /usr/local/lib/python3.10/dist-packages (from lime) (1.2.2)\n",
            "Requirement already satisfied: scikit-image>=0.12 in /usr/local/lib/python3.10/dist-packages (from lime) (0.19.3)\n",
            "Requirement already satisfied: networkx>=2.2 in /usr/local/lib/python3.10/dist-packages (from scikit-image>=0.12->lime) (3.2.1)\n",
            "Requirement already satisfied: pillow!=7.1.0,!=7.1.1,!=8.3.0,>=6.1.0 in /usr/local/lib/python3.10/dist-packages (from scikit-image>=0.12->lime) (9.4.0)\n",
            "Requirement already satisfied: imageio>=2.4.1 in /usr/local/lib/python3.10/dist-packages (from scikit-image>=0.12->lime) (2.31.6)\n",
            "Requirement already satisfied: tifffile>=2019.7.26 in /usr/local/lib/python3.10/dist-packages (from scikit-image>=0.12->lime) (2024.1.30)\n",
            "Requirement already satisfied: PyWavelets>=1.1.1 in /usr/local/lib/python3.10/dist-packages (from scikit-image>=0.12->lime) (1.5.0)\n",
            "Requirement already satisfied: packaging>=20.0 in /usr/local/lib/python3.10/dist-packages (from scikit-image>=0.12->lime) (23.2)\n",
            "Requirement already satisfied: joblib>=1.1.1 in /usr/local/lib/python3.10/dist-packages (from scikit-learn>=0.18->lime) (1.3.2)\n",
            "Requirement already satisfied: threadpoolctl>=2.0.0 in /usr/local/lib/python3.10/dist-packages (from scikit-learn>=0.18->lime) (3.2.0)\n",
            "Requirement already satisfied: contourpy>=1.0.1 in /usr/local/lib/python3.10/dist-packages (from matplotlib->lime) (1.2.0)\n",
            "Requirement already satisfied: cycler>=0.10 in /usr/local/lib/python3.10/dist-packages (from matplotlib->lime) (0.12.1)\n",
            "Requirement already satisfied: fonttools>=4.22.0 in /usr/local/lib/python3.10/dist-packages (from matplotlib->lime) (4.47.2)\n",
            "Requirement already satisfied: kiwisolver>=1.0.1 in /usr/local/lib/python3.10/dist-packages (from matplotlib->lime) (1.4.5)\n",
            "Requirement already satisfied: pyparsing>=2.3.1 in /usr/local/lib/python3.10/dist-packages (from matplotlib->lime) (3.1.1)\n",
            "Requirement already satisfied: python-dateutil>=2.7 in /usr/local/lib/python3.10/dist-packages (from matplotlib->lime) (2.8.2)\n",
            "Requirement already satisfied: six>=1.5 in /usr/local/lib/python3.10/dist-packages (from python-dateutil>=2.7->matplotlib->lime) (1.16.0)\n",
            "Building wheels for collected packages: lime\n",
            "  Building wheel for lime (setup.py) ... \u001b[?25l\u001b[?25hdone\n",
            "  Created wheel for lime: filename=lime-0.2.0.1-py3-none-any.whl size=283835 sha256=f3557081cbe307971d143126ab20f8ddb7d6221915df1b5b61ec991eb4acd820\n",
            "  Stored in directory: /root/.cache/pip/wheels/fd/a2/af/9ac0a1a85a27f314a06b39e1f492bee1547d52549a4606ed89\n",
            "Successfully built lime\n",
            "Installing collected packages: lime\n",
            "Successfully installed lime-0.2.0.1\n"
          ]
        }
      ]
    },
    {
      "cell_type": "code",
      "source": [
        "import lime\n",
        "from lime import lime_image\n",
        "from lime.wrappers.scikit_image import SegmentationAlgorithm\n",
        "from skimage.segmentation import mark_boundaries"
      ],
      "metadata": {
        "id": "O2jjAZdO3QTf"
      },
      "execution_count": 10,
      "outputs": []
    },
    {
      "cell_type": "markdown",
      "source": [
        "**We should define segmentation algorithm!**\n",
        "\n",
        "**For that we can use slic (simple linear iterative clustering)**"
      ],
      "metadata": {
        "id": "99x_pQmy6G7j"
      }
    },
    {
      "cell_type": "code",
      "source": [
        "segmenter = SegmentationAlgorithm('slic', n_segments=100, compactness=1, sigma=1)\n",
        "# segmenter = SegmentationAlgorithm('quickshift', kernel_size=1, max_dist=200, ratio=0.2)\n",
        "# segmenter = SegmentationAlgorithm('felzenszwalb',scale= 10, sigma= 0.4, min_size=50)"
      ],
      "metadata": {
        "id": "u5k6Q9Uy3HPJ"
      },
      "execution_count": 11,
      "outputs": []
    },
    {
      "cell_type": "markdown",
      "source": [
        "**n_segments indicates the number of superpixels. It means that a larger n_segments will result in smaller supepixels**\n",
        "\n",
        "**We can then use the pre-trained model and a test image (the 600th image, which belongs to class 2).**\n",
        "\n",
        "**LIME produces one output image**"
      ],
      "metadata": {
        "id": "eelmnHfb_Hev"
      }
    },
    {
      "cell_type": "code",
      "source": [
        "ind=[600]\n",
        "test_img=x_test_mstar[ind][0]\n",
        "explainer = lime_image.LimeImageExplainer()\n",
        "\n",
        "explanation = explainer.explain_instance(test_img,\n",
        "                                         classifier_fn = model.predict,\n",
        "                                         top_labels=1, hide_color=0, num_samples=5000, segmentation_fn=segmenter)"
      ],
      "metadata": {
        "colab": {
          "base_uri": "https://localhost:8080/",
          "height": 1000,
          "referenced_widgets": [
            "fb083a3fe7554eca88c47136de45cb81",
            "6e04e42ba9af4102b55636a1838ad252",
            "0cc1f259f0b44e99aee85ea4c8e1d19e",
            "fc794f13bd9047a58fe9e3264d6cf883",
            "3eb2575c6fbf4de38cba6c3eb4698ab4",
            "0ad8497cae034b4d82c6b269837ed928",
            "70bac17f2fea49289f37024dc4c924eb",
            "29df96a0e32546299eac799db149dc8a",
            "467b64bdad944ffe99dd7c27270bb4ec",
            "2592ad7c4e7745e2b4f275b8880a8f3f",
            "e26c96f3bc444d2bbaeaefb2c24f106b"
          ]
        },
        "id": "jPJ8L_w37uXx",
        "outputId": "9c9e8b4a-d98f-48d1-dccc-e3ce428099cf"
      },
      "execution_count": 12,
      "outputs": [
        {
          "output_type": "display_data",
          "data": {
            "text/plain": [
              "  0%|          | 0/5000 [00:00<?, ?it/s]"
            ],
            "application/vnd.jupyter.widget-view+json": {
              "version_major": 2,
              "version_minor": 0,
              "model_id": "fb083a3fe7554eca88c47136de45cb81"
            }
          },
          "metadata": {}
        },
        {
          "output_type": "stream",
          "name": "stdout",
          "text": [
            "1/1 [==============================] - 0s 48ms/step\n",
            "1/1 [==============================] - 0s 81ms/step\n",
            "1/1 [==============================] - 0s 43ms/step\n",
            "1/1 [==============================] - 0s 28ms/step\n",
            "1/1 [==============================] - 0s 31ms/step\n",
            "1/1 [==============================] - 0s 30ms/step\n",
            "1/1 [==============================] - 0s 26ms/step\n",
            "1/1 [==============================] - 0s 33ms/step\n",
            "1/1 [==============================] - 0s 29ms/step\n",
            "1/1 [==============================] - 0s 37ms/step\n",
            "1/1 [==============================] - 0s 29ms/step\n",
            "1/1 [==============================] - 0s 29ms/step\n",
            "1/1 [==============================] - 0s 28ms/step\n",
            "1/1 [==============================] - 0s 59ms/step\n",
            "1/1 [==============================] - 0s 46ms/step\n",
            "1/1 [==============================] - 0s 65ms/step\n",
            "1/1 [==============================] - 0s 66ms/step\n",
            "1/1 [==============================] - 0s 42ms/step\n",
            "1/1 [==============================] - 0s 37ms/step\n",
            "1/1 [==============================] - 0s 42ms/step\n",
            "1/1 [==============================] - 0s 39ms/step\n",
            "1/1 [==============================] - 0s 42ms/step\n",
            "1/1 [==============================] - 0s 40ms/step\n",
            "1/1 [==============================] - 0s 39ms/step\n",
            "1/1 [==============================] - 0s 38ms/step\n",
            "1/1 [==============================] - 0s 41ms/step\n",
            "1/1 [==============================] - 0s 54ms/step\n",
            "1/1 [==============================] - 0s 63ms/step\n",
            "1/1 [==============================] - 0s 47ms/step\n",
            "1/1 [==============================] - 0s 68ms/step\n",
            "1/1 [==============================] - 0s 38ms/step\n",
            "1/1 [==============================] - 0s 44ms/step\n",
            "1/1 [==============================] - 0s 37ms/step\n",
            "1/1 [==============================] - 0s 41ms/step\n",
            "1/1 [==============================] - 0s 86ms/step\n",
            "1/1 [==============================] - 0s 41ms/step\n",
            "1/1 [==============================] - 0s 40ms/step\n",
            "1/1 [==============================] - 0s 51ms/step\n",
            "1/1 [==============================] - 0s 73ms/step\n",
            "1/1 [==============================] - 0s 64ms/step\n",
            "1/1 [==============================] - 0s 40ms/step\n",
            "1/1 [==============================] - 0s 39ms/step\n",
            "1/1 [==============================] - 0s 43ms/step\n",
            "1/1 [==============================] - 0s 65ms/step\n",
            "1/1 [==============================] - 0s 37ms/step\n",
            "1/1 [==============================] - 0s 78ms/step\n",
            "1/1 [==============================] - 0s 33ms/step\n",
            "1/1 [==============================] - 0s 39ms/step\n",
            "1/1 [==============================] - 0s 49ms/step\n",
            "1/1 [==============================] - 0s 100ms/step\n",
            "1/1 [==============================] - 0s 94ms/step\n",
            "1/1 [==============================] - 0s 35ms/step\n",
            "1/1 [==============================] - 0s 37ms/step\n",
            "1/1 [==============================] - 0s 93ms/step\n",
            "1/1 [==============================] - 0s 49ms/step\n",
            "1/1 [==============================] - 0s 37ms/step\n",
            "1/1 [==============================] - 0s 93ms/step\n",
            "1/1 [==============================] - 0s 53ms/step\n",
            "1/1 [==============================] - 0s 95ms/step\n",
            "1/1 [==============================] - 0s 85ms/step\n",
            "1/1 [==============================] - 0s 149ms/step\n",
            "1/1 [==============================] - 0s 144ms/step\n",
            "1/1 [==============================] - 0s 87ms/step\n",
            "1/1 [==============================] - 0s 97ms/step\n",
            "1/1 [==============================] - 0s 41ms/step\n",
            "1/1 [==============================] - 0s 76ms/step\n",
            "1/1 [==============================] - 0s 61ms/step\n",
            "1/1 [==============================] - 0s 44ms/step\n",
            "1/1 [==============================] - 0s 53ms/step\n",
            "1/1 [==============================] - 0s 63ms/step\n",
            "1/1 [==============================] - 0s 86ms/step\n",
            "1/1 [==============================] - 0s 153ms/step\n",
            "1/1 [==============================] - 0s 137ms/step\n",
            "1/1 [==============================] - 0s 40ms/step\n",
            "1/1 [==============================] - 0s 39ms/step\n",
            "1/1 [==============================] - 0s 73ms/step\n",
            "1/1 [==============================] - 0s 49ms/step\n",
            "1/1 [==============================] - 0s 46ms/step\n",
            "1/1 [==============================] - 0s 74ms/step\n",
            "1/1 [==============================] - 0s 45ms/step\n",
            "1/1 [==============================] - 0s 61ms/step\n",
            "1/1 [==============================] - 0s 40ms/step\n",
            "1/1 [==============================] - 0s 39ms/step\n",
            "1/1 [==============================] - 0s 68ms/step\n",
            "1/1 [==============================] - 0s 35ms/step\n",
            "1/1 [==============================] - 0s 62ms/step\n",
            "1/1 [==============================] - 0s 63ms/step\n",
            "1/1 [==============================] - 0s 74ms/step\n",
            "1/1 [==============================] - 0s 93ms/step\n",
            "1/1 [==============================] - 0s 57ms/step\n",
            "1/1 [==============================] - 0s 37ms/step\n",
            "1/1 [==============================] - 0s 43ms/step\n",
            "1/1 [==============================] - 0s 65ms/step\n",
            "1/1 [==============================] - 0s 52ms/step\n",
            "1/1 [==============================] - 0s 80ms/step\n",
            "1/1 [==============================] - 0s 41ms/step\n",
            "1/1 [==============================] - 0s 50ms/step\n",
            "1/1 [==============================] - 0s 61ms/step\n",
            "1/1 [==============================] - 0s 54ms/step\n",
            "1/1 [==============================] - 0s 65ms/step\n",
            "1/1 [==============================] - 0s 72ms/step\n",
            "1/1 [==============================] - 0s 33ms/step\n",
            "1/1 [==============================] - 0s 45ms/step\n",
            "1/1 [==============================] - 0s 52ms/step\n",
            "1/1 [==============================] - 0s 46ms/step\n",
            "1/1 [==============================] - 0s 47ms/step\n",
            "1/1 [==============================] - 0s 41ms/step\n",
            "1/1 [==============================] - 0s 32ms/step\n",
            "1/1 [==============================] - 0s 26ms/step\n",
            "1/1 [==============================] - 0s 26ms/step\n",
            "1/1 [==============================] - 0s 53ms/step\n",
            "1/1 [==============================] - 0s 47ms/step\n",
            "1/1 [==============================] - 0s 50ms/step\n",
            "1/1 [==============================] - 0s 39ms/step\n",
            "1/1 [==============================] - 0s 45ms/step\n",
            "1/1 [==============================] - 0s 42ms/step\n",
            "1/1 [==============================] - 0s 43ms/step\n",
            "1/1 [==============================] - 0s 34ms/step\n",
            "1/1 [==============================] - 0s 52ms/step\n",
            "1/1 [==============================] - 0s 35ms/step\n",
            "1/1 [==============================] - 0s 35ms/step\n",
            "1/1 [==============================] - 0s 35ms/step\n",
            "1/1 [==============================] - 0s 35ms/step\n",
            "1/1 [==============================] - 0s 46ms/step\n",
            "1/1 [==============================] - 0s 43ms/step\n",
            "1/1 [==============================] - 0s 43ms/step\n",
            "1/1 [==============================] - 0s 33ms/step\n",
            "1/1 [==============================] - 0s 39ms/step\n",
            "1/1 [==============================] - 0s 36ms/step\n",
            "1/1 [==============================] - 0s 39ms/step\n",
            "1/1 [==============================] - 0s 40ms/step\n",
            "1/1 [==============================] - 0s 32ms/step\n",
            "1/1 [==============================] - 0s 22ms/step\n",
            "1/1 [==============================] - 0s 23ms/step\n",
            "1/1 [==============================] - 0s 22ms/step\n",
            "1/1 [==============================] - 0s 22ms/step\n",
            "1/1 [==============================] - 0s 23ms/step\n",
            "1/1 [==============================] - 0s 25ms/step\n",
            "1/1 [==============================] - 0s 22ms/step\n",
            "1/1 [==============================] - 0s 27ms/step\n",
            "1/1 [==============================] - 0s 23ms/step\n",
            "1/1 [==============================] - 0s 27ms/step\n",
            "1/1 [==============================] - 0s 36ms/step\n",
            "1/1 [==============================] - 0s 25ms/step\n",
            "1/1 [==============================] - 0s 26ms/step\n",
            "1/1 [==============================] - 0s 29ms/step\n",
            "1/1 [==============================] - 0s 26ms/step\n",
            "1/1 [==============================] - 0s 29ms/step\n",
            "1/1 [==============================] - 0s 26ms/step\n",
            "1/1 [==============================] - 0s 28ms/step\n",
            "1/1 [==============================] - 0s 26ms/step\n",
            "1/1 [==============================] - 0s 25ms/step\n",
            "1/1 [==============================] - 0s 41ms/step\n",
            "1/1 [==============================] - 0s 25ms/step\n",
            "1/1 [==============================] - 0s 25ms/step\n",
            "1/1 [==============================] - 0s 28ms/step\n",
            "1/1 [==============================] - 0s 26ms/step\n",
            "1/1 [==============================] - 0s 26ms/step\n",
            "1/1 [==============================] - 0s 25ms/step\n",
            "1/1 [==============================] - 0s 26ms/step\n",
            "1/1 [==============================] - 0s 29ms/step\n",
            "1/1 [==============================] - 0s 26ms/step\n",
            "1/1 [==============================] - 0s 36ms/step\n",
            "1/1 [==============================] - 0s 26ms/step\n",
            "1/1 [==============================] - 0s 26ms/step\n",
            "1/1 [==============================] - 0s 24ms/step\n",
            "1/1 [==============================] - 0s 25ms/step\n",
            "1/1 [==============================] - 0s 24ms/step\n",
            "1/1 [==============================] - 0s 22ms/step\n",
            "1/1 [==============================] - 0s 25ms/step\n",
            "1/1 [==============================] - 0s 23ms/step\n",
            "1/1 [==============================] - 0s 23ms/step\n",
            "1/1 [==============================] - 0s 29ms/step\n",
            "1/1 [==============================] - 0s 34ms/step\n",
            "1/1 [==============================] - 0s 29ms/step\n",
            "1/1 [==============================] - 0s 26ms/step\n",
            "1/1 [==============================] - 0s 29ms/step\n",
            "1/1 [==============================] - 0s 25ms/step\n",
            "1/1 [==============================] - 0s 25ms/step\n",
            "1/1 [==============================] - 0s 27ms/step\n",
            "1/1 [==============================] - 0s 27ms/step\n",
            "1/1 [==============================] - 0s 28ms/step\n",
            "1/1 [==============================] - 0s 26ms/step\n",
            "1/1 [==============================] - 0s 27ms/step\n",
            "1/1 [==============================] - 0s 28ms/step\n",
            "1/1 [==============================] - 0s 25ms/step\n",
            "1/1 [==============================] - 0s 30ms/step\n",
            "1/1 [==============================] - 0s 27ms/step\n",
            "1/1 [==============================] - 0s 28ms/step\n",
            "1/1 [==============================] - 0s 26ms/step\n",
            "1/1 [==============================] - 0s 30ms/step\n",
            "1/1 [==============================] - 0s 27ms/step\n",
            "1/1 [==============================] - 0s 30ms/step\n",
            "1/1 [==============================] - 0s 26ms/step\n",
            "1/1 [==============================] - 0s 26ms/step\n",
            "1/1 [==============================] - 0s 31ms/step\n",
            "1/1 [==============================] - 0s 27ms/step\n",
            "1/1 [==============================] - 0s 27ms/step\n",
            "1/1 [==============================] - 0s 28ms/step\n",
            "1/1 [==============================] - 0s 26ms/step\n",
            "1/1 [==============================] - 0s 27ms/step\n",
            "1/1 [==============================] - 0s 29ms/step\n",
            "1/1 [==============================] - 0s 26ms/step\n",
            "1/1 [==============================] - 0s 26ms/step\n",
            "1/1 [==============================] - 0s 26ms/step\n",
            "1/1 [==============================] - 0s 25ms/step\n",
            "1/1 [==============================] - 0s 28ms/step\n",
            "1/1 [==============================] - 0s 28ms/step\n",
            "1/1 [==============================] - 0s 30ms/step\n",
            "1/1 [==============================] - 0s 28ms/step\n",
            "1/1 [==============================] - 0s 28ms/step\n",
            "1/1 [==============================] - 0s 29ms/step\n",
            "1/1 [==============================] - 0s 31ms/step\n",
            "1/1 [==============================] - 0s 28ms/step\n",
            "1/1 [==============================] - 0s 27ms/step\n",
            "1/1 [==============================] - 0s 27ms/step\n",
            "1/1 [==============================] - 0s 28ms/step\n",
            "1/1 [==============================] - 0s 28ms/step\n",
            "1/1 [==============================] - 0s 28ms/step\n",
            "1/1 [==============================] - 0s 30ms/step\n",
            "1/1 [==============================] - 0s 27ms/step\n",
            "1/1 [==============================] - 0s 30ms/step\n",
            "1/1 [==============================] - 0s 27ms/step\n",
            "1/1 [==============================] - 0s 28ms/step\n",
            "1/1 [==============================] - 0s 27ms/step\n",
            "1/1 [==============================] - 0s 27ms/step\n",
            "1/1 [==============================] - 0s 29ms/step\n",
            "1/1 [==============================] - 0s 27ms/step\n",
            "1/1 [==============================] - 0s 47ms/step\n",
            "1/1 [==============================] - 0s 42ms/step\n",
            "1/1 [==============================] - 0s 45ms/step\n",
            "1/1 [==============================] - 0s 35ms/step\n",
            "1/1 [==============================] - 0s 36ms/step\n",
            "1/1 [==============================] - 0s 40ms/step\n",
            "1/1 [==============================] - 0s 34ms/step\n",
            "1/1 [==============================] - 0s 39ms/step\n",
            "1/1 [==============================] - 0s 36ms/step\n",
            "1/1 [==============================] - 0s 37ms/step\n",
            "1/1 [==============================] - 0s 48ms/step\n",
            "1/1 [==============================] - 0s 34ms/step\n",
            "1/1 [==============================] - 0s 42ms/step\n",
            "1/1 [==============================] - 0s 33ms/step\n",
            "1/1 [==============================] - 0s 36ms/step\n",
            "1/1 [==============================] - 0s 34ms/step\n",
            "1/1 [==============================] - 0s 37ms/step\n",
            "1/1 [==============================] - 0s 36ms/step\n",
            "1/1 [==============================] - 0s 43ms/step\n",
            "1/1 [==============================] - 0s 22ms/step\n",
            "1/1 [==============================] - 0s 23ms/step\n",
            "1/1 [==============================] - 0s 22ms/step\n",
            "1/1 [==============================] - 0s 23ms/step\n",
            "1/1 [==============================] - 0s 24ms/step\n",
            "1/1 [==============================] - 0s 23ms/step\n",
            "1/1 [==============================] - 0s 22ms/step\n",
            "1/1 [==============================] - 0s 32ms/step\n",
            "1/1 [==============================] - 0s 27ms/step\n",
            "1/1 [==============================] - 0s 26ms/step\n",
            "1/1 [==============================] - 0s 28ms/step\n",
            "1/1 [==============================] - 0s 26ms/step\n",
            "1/1 [==============================] - 0s 28ms/step\n",
            "1/1 [==============================] - 0s 31ms/step\n",
            "1/1 [==============================] - 0s 31ms/step\n",
            "1/1 [==============================] - 0s 35ms/step\n",
            "1/1 [==============================] - 0s 28ms/step\n",
            "1/1 [==============================] - 0s 29ms/step\n",
            "1/1 [==============================] - 0s 26ms/step\n",
            "1/1 [==============================] - 0s 29ms/step\n",
            "1/1 [==============================] - 0s 30ms/step\n",
            "1/1 [==============================] - 0s 25ms/step\n",
            "1/1 [==============================] - 0s 33ms/step\n",
            "1/1 [==============================] - 0s 27ms/step\n",
            "1/1 [==============================] - 0s 34ms/step\n",
            "1/1 [==============================] - 0s 26ms/step\n",
            "1/1 [==============================] - 0s 28ms/step\n",
            "1/1 [==============================] - 0s 26ms/step\n",
            "1/1 [==============================] - 0s 26ms/step\n",
            "1/1 [==============================] - 0s 26ms/step\n",
            "1/1 [==============================] - 0s 28ms/step\n",
            "1/1 [==============================] - 0s 30ms/step\n",
            "1/1 [==============================] - 0s 30ms/step\n",
            "1/1 [==============================] - 0s 29ms/step\n",
            "1/1 [==============================] - 0s 29ms/step\n",
            "1/1 [==============================] - 0s 30ms/step\n",
            "1/1 [==============================] - 0s 26ms/step\n",
            "1/1 [==============================] - 0s 29ms/step\n",
            "1/1 [==============================] - 0s 25ms/step\n",
            "1/1 [==============================] - 0s 33ms/step\n",
            "1/1 [==============================] - 0s 29ms/step\n",
            "1/1 [==============================] - 0s 26ms/step\n",
            "1/1 [==============================] - 0s 28ms/step\n",
            "1/1 [==============================] - 0s 26ms/step\n",
            "1/1 [==============================] - 0s 26ms/step\n",
            "1/1 [==============================] - 0s 26ms/step\n",
            "1/1 [==============================] - 0s 25ms/step\n",
            "1/1 [==============================] - 0s 23ms/step\n",
            "1/1 [==============================] - 0s 23ms/step\n",
            "1/1 [==============================] - 0s 28ms/step\n",
            "1/1 [==============================] - 0s 23ms/step\n",
            "1/1 [==============================] - 0s 23ms/step\n",
            "1/1 [==============================] - 0s 26ms/step\n",
            "1/1 [==============================] - 0s 23ms/step\n",
            "1/1 [==============================] - 0s 23ms/step\n",
            "1/1 [==============================] - 0s 23ms/step\n",
            "1/1 [==============================] - 0s 24ms/step\n",
            "1/1 [==============================] - 0s 25ms/step\n",
            "1/1 [==============================] - 0s 26ms/step\n",
            "1/1 [==============================] - 0s 26ms/step\n",
            "1/1 [==============================] - 0s 30ms/step\n",
            "1/1 [==============================] - 0s 26ms/step\n",
            "1/1 [==============================] - 0s 30ms/step\n",
            "1/1 [==============================] - 0s 27ms/step\n",
            "1/1 [==============================] - 0s 26ms/step\n",
            "1/1 [==============================] - 0s 26ms/step\n",
            "1/1 [==============================] - 0s 25ms/step\n",
            "1/1 [==============================] - 0s 30ms/step\n",
            "1/1 [==============================] - 0s 28ms/step\n",
            "1/1 [==============================] - 0s 27ms/step\n",
            "1/1 [==============================] - 0s 37ms/step\n",
            "1/1 [==============================] - 0s 29ms/step\n",
            "1/1 [==============================] - 0s 28ms/step\n",
            "1/1 [==============================] - 0s 32ms/step\n",
            "1/1 [==============================] - 0s 28ms/step\n",
            "1/1 [==============================] - 0s 27ms/step\n",
            "1/1 [==============================] - 0s 28ms/step\n",
            "1/1 [==============================] - 0s 28ms/step\n",
            "1/1 [==============================] - 0s 28ms/step\n",
            "1/1 [==============================] - 0s 38ms/step\n",
            "1/1 [==============================] - 0s 31ms/step\n",
            "1/1 [==============================] - 0s 29ms/step\n",
            "1/1 [==============================] - 0s 29ms/step\n",
            "1/1 [==============================] - 0s 30ms/step\n",
            "1/1 [==============================] - 0s 26ms/step\n",
            "1/1 [==============================] - 0s 31ms/step\n",
            "1/1 [==============================] - 0s 26ms/step\n",
            "1/1 [==============================] - 0s 33ms/step\n",
            "1/1 [==============================] - 0s 33ms/step\n",
            "1/1 [==============================] - 0s 31ms/step\n",
            "1/1 [==============================] - 0s 28ms/step\n",
            "1/1 [==============================] - 0s 28ms/step\n",
            "1/1 [==============================] - 0s 26ms/step\n",
            "1/1 [==============================] - 0s 26ms/step\n",
            "1/1 [==============================] - 0s 28ms/step\n",
            "1/1 [==============================] - 0s 45ms/step\n",
            "1/1 [==============================] - 0s 45ms/step\n",
            "1/1 [==============================] - 0s 43ms/step\n",
            "1/1 [==============================] - 0s 36ms/step\n",
            "1/1 [==============================] - 0s 33ms/step\n",
            "1/1 [==============================] - 0s 33ms/step\n",
            "1/1 [==============================] - 0s 33ms/step\n",
            "1/1 [==============================] - 0s 35ms/step\n",
            "1/1 [==============================] - 0s 36ms/step\n",
            "1/1 [==============================] - 0s 38ms/step\n",
            "1/1 [==============================] - 0s 44ms/step\n",
            "1/1 [==============================] - 0s 34ms/step\n",
            "1/1 [==============================] - 0s 36ms/step\n",
            "1/1 [==============================] - 0s 33ms/step\n",
            "1/1 [==============================] - 0s 35ms/step\n",
            "1/1 [==============================] - 0s 38ms/step\n",
            "1/1 [==============================] - 0s 36ms/step\n",
            "1/1 [==============================] - 0s 39ms/step\n",
            "1/1 [==============================] - 0s 38ms/step\n",
            "1/1 [==============================] - 0s 26ms/step\n",
            "1/1 [==============================] - 0s 25ms/step\n",
            "1/1 [==============================] - 0s 23ms/step\n",
            "1/1 [==============================] - 0s 23ms/step\n",
            "1/1 [==============================] - 0s 23ms/step\n",
            "1/1 [==============================] - 0s 22ms/step\n",
            "1/1 [==============================] - 0s 22ms/step\n",
            "1/1 [==============================] - 0s 25ms/step\n",
            "1/1 [==============================] - 0s 25ms/step\n",
            "1/1 [==============================] - 0s 23ms/step\n",
            "1/1 [==============================] - 0s 24ms/step\n",
            "1/1 [==============================] - 0s 29ms/step\n",
            "1/1 [==============================] - 0s 25ms/step\n",
            "1/1 [==============================] - 0s 24ms/step\n",
            "1/1 [==============================] - 0s 23ms/step\n",
            "1/1 [==============================] - 0s 22ms/step\n",
            "1/1 [==============================] - 0s 26ms/step\n",
            "1/1 [==============================] - 0s 31ms/step\n",
            "1/1 [==============================] - 0s 31ms/step\n",
            "1/1 [==============================] - 0s 28ms/step\n",
            "1/1 [==============================] - 0s 29ms/step\n",
            "1/1 [==============================] - 0s 29ms/step\n",
            "1/1 [==============================] - 0s 29ms/step\n",
            "1/1 [==============================] - 0s 28ms/step\n",
            "1/1 [==============================] - 0s 26ms/step\n",
            "1/1 [==============================] - 0s 27ms/step\n",
            "1/1 [==============================] - 0s 25ms/step\n",
            "1/1 [==============================] - 0s 23ms/step\n",
            "1/1 [==============================] - 0s 25ms/step\n",
            "1/1 [==============================] - 0s 24ms/step\n",
            "1/1 [==============================] - 0s 24ms/step\n",
            "1/1 [==============================] - 0s 23ms/step\n",
            "1/1 [==============================] - 0s 24ms/step\n",
            "1/1 [==============================] - 0s 22ms/step\n",
            "1/1 [==============================] - 0s 23ms/step\n",
            "1/1 [==============================] - 0s 25ms/step\n",
            "1/1 [==============================] - 0s 24ms/step\n",
            "1/1 [==============================] - 0s 23ms/step\n",
            "1/1 [==============================] - 0s 23ms/step\n",
            "1/1 [==============================] - 0s 23ms/step\n",
            "1/1 [==============================] - 0s 22ms/step\n",
            "1/1 [==============================] - 0s 23ms/step\n",
            "1/1 [==============================] - 0s 23ms/step\n",
            "1/1 [==============================] - 0s 25ms/step\n",
            "1/1 [==============================] - 0s 34ms/step\n",
            "1/1 [==============================] - 0s 34ms/step\n",
            "1/1 [==============================] - 0s 23ms/step\n",
            "1/1 [==============================] - 0s 22ms/step\n",
            "1/1 [==============================] - 0s 23ms/step\n",
            "1/1 [==============================] - 0s 23ms/step\n",
            "1/1 [==============================] - 0s 24ms/step\n",
            "1/1 [==============================] - 0s 24ms/step\n",
            "1/1 [==============================] - 0s 26ms/step\n",
            "1/1 [==============================] - 0s 23ms/step\n",
            "1/1 [==============================] - 0s 26ms/step\n",
            "1/1 [==============================] - 0s 27ms/step\n",
            "1/1 [==============================] - 0s 25ms/step\n",
            "1/1 [==============================] - 0s 23ms/step\n",
            "1/1 [==============================] - 0s 25ms/step\n",
            "1/1 [==============================] - 0s 22ms/step\n",
            "1/1 [==============================] - 0s 22ms/step\n",
            "1/1 [==============================] - 0s 23ms/step\n",
            "1/1 [==============================] - 0s 24ms/step\n",
            "1/1 [==============================] - 0s 23ms/step\n",
            "1/1 [==============================] - 0s 23ms/step\n",
            "1/1 [==============================] - 0s 24ms/step\n",
            "1/1 [==============================] - 0s 23ms/step\n",
            "1/1 [==============================] - 0s 29ms/step\n",
            "1/1 [==============================] - 0s 23ms/step\n",
            "1/1 [==============================] - 0s 22ms/step\n",
            "1/1 [==============================] - 0s 23ms/step\n",
            "1/1 [==============================] - 0s 23ms/step\n",
            "1/1 [==============================] - 0s 25ms/step\n",
            "1/1 [==============================] - 0s 22ms/step\n",
            "1/1 [==============================] - 0s 28ms/step\n",
            "1/1 [==============================] - 0s 23ms/step\n",
            "1/1 [==============================] - 0s 25ms/step\n",
            "1/1 [==============================] - 0s 22ms/step\n",
            "1/1 [==============================] - 0s 23ms/step\n",
            "1/1 [==============================] - 0s 27ms/step\n",
            "1/1 [==============================] - 0s 27ms/step\n",
            "1/1 [==============================] - 0s 23ms/step\n",
            "1/1 [==============================] - 0s 24ms/step\n",
            "1/1 [==============================] - 0s 27ms/step\n",
            "1/1 [==============================] - 0s 28ms/step\n",
            "1/1 [==============================] - 0s 32ms/step\n",
            "1/1 [==============================] - 0s 33ms/step\n",
            "1/1 [==============================] - 0s 28ms/step\n",
            "1/1 [==============================] - 0s 35ms/step\n",
            "1/1 [==============================] - 0s 29ms/step\n",
            "1/1 [==============================] - 0s 29ms/step\n",
            "1/1 [==============================] - 0s 28ms/step\n",
            "1/1 [==============================] - 0s 28ms/step\n",
            "1/1 [==============================] - 0s 23ms/step\n",
            "1/1 [==============================] - 0s 24ms/step\n",
            "1/1 [==============================] - 0s 23ms/step\n",
            "1/1 [==============================] - 0s 24ms/step\n",
            "1/1 [==============================] - 0s 23ms/step\n",
            "1/1 [==============================] - 0s 23ms/step\n",
            "1/1 [==============================] - 0s 26ms/step\n",
            "1/1 [==============================] - 0s 23ms/step\n",
            "1/1 [==============================] - 0s 23ms/step\n",
            "1/1 [==============================] - 0s 23ms/step\n",
            "1/1 [==============================] - 0s 24ms/step\n",
            "1/1 [==============================] - 0s 23ms/step\n",
            "1/1 [==============================] - 0s 23ms/step\n",
            "1/1 [==============================] - 0s 23ms/step\n",
            "1/1 [==============================] - 0s 41ms/step\n",
            "1/1 [==============================] - 0s 45ms/step\n",
            "1/1 [==============================] - 0s 38ms/step\n",
            "1/1 [==============================] - 0s 38ms/step\n",
            "1/1 [==============================] - 0s 36ms/step\n",
            "1/1 [==============================] - 0s 35ms/step\n",
            "1/1 [==============================] - 0s 34ms/step\n",
            "1/1 [==============================] - 0s 36ms/step\n",
            "1/1 [==============================] - 0s 33ms/step\n",
            "1/1 [==============================] - 0s 34ms/step\n",
            "1/1 [==============================] - 0s 44ms/step\n",
            "1/1 [==============================] - 0s 36ms/step\n",
            "1/1 [==============================] - 0s 38ms/step\n",
            "1/1 [==============================] - 0s 36ms/step\n",
            "1/1 [==============================] - 0s 44ms/step\n",
            "1/1 [==============================] - 0s 37ms/step\n",
            "1/1 [==============================] - 0s 33ms/step\n",
            "1/1 [==============================] - 0s 36ms/step\n",
            "1/1 [==============================] - 0s 42ms/step\n",
            "1/1 [==============================] - 0s 26ms/step\n",
            "1/1 [==============================] - 0s 23ms/step\n",
            "1/1 [==============================] - 0s 22ms/step\n",
            "1/1 [==============================] - 0s 25ms/step\n",
            "1/1 [==============================] - 0s 28ms/step\n",
            "1/1 [==============================] - 0s 25ms/step\n",
            "1/1 [==============================] - 0s 23ms/step\n",
            "1/1 [==============================] - 0s 23ms/step\n",
            "1/1 [==============================] - 0s 23ms/step\n",
            "1/1 [==============================] - 0s 23ms/step\n",
            "1/1 [==============================] - 0s 24ms/step\n",
            "1/1 [==============================] - 0s 24ms/step\n",
            "1/1 [==============================] - 0s 26ms/step\n"
          ]
        }
      ]
    },
    {
      "cell_type": "code",
      "source": [
        "y_hat[600]"
      ],
      "metadata": {
        "colab": {
          "base_uri": "https://localhost:8080/"
        },
        "id": "ib_Rqd6ievMf",
        "outputId": "3caa95c2-56b3-4e27-828b-6f956292858d"
      },
      "execution_count": 16,
      "outputs": [
        {
          "output_type": "execute_result",
          "data": {
            "text/plain": [
              "array([4.1912170e-03, 4.9294945e-04, 9.9531579e-01], dtype=float32)"
            ]
          },
          "metadata": {},
          "execution_count": 16
        }
      ]
    },
    {
      "cell_type": "markdown",
      "source": [
        "**By using a large num_samples in the above code, 5000, the results is more robust and reliable.**"
      ],
      "metadata": {
        "id": "sYZgCwKiB_oH"
      }
    },
    {
      "cell_type": "markdown",
      "source": [
        "**Now we visualize the main superpixel that favors the top class**"
      ],
      "metadata": {
        "id": "95wbYIFAQDP-"
      }
    },
    {
      "cell_type": "code",
      "source": [
        "image, mask = explanation.get_image_and_mask(explanation.top_labels[0],\n",
        "                                 positive_only=False,\n",
        "                                 num_features=1,\n",
        "                                 hide_rest=False,\n",
        "                                 min_weight=0\n",
        "                                )\n",
        "plt.imshow(mark_boundaries(image, mask))\n",
        "plt.axis('off')\n",
        "plt.show()"
      ],
      "metadata": {
        "id": "CHp3ujGUEZTg",
        "outputId": "f60ccb3c-4869-49cc-8b92-8d28c8579a90",
        "colab": {
          "base_uri": "https://localhost:8080/",
          "height": 406
        }
      },
      "execution_count": null,
      "outputs": [
        {
          "output_type": "display_data",
          "data": {
            "text/plain": [
              "<Figure size 640x480 with 1 Axes>"
            ],
            "image/png": "[encoded data removed]"
          },
          "metadata": {}
        }
      ]
    },
    {
      "cell_type": "markdown",
      "source": [
        "**num_features=1 in the above code means that only one superpixel is shown.**\n",
        "\n",
        "**We can see the results with different** *num_features*\n"
      ],
      "metadata": {
        "id": "rA2v9k5XQjse"
      }
    },
    {
      "cell_type": "code",
      "source": [
        "for i in range (1,5):\n",
        "    image, mask = explanation.get_image_and_mask(explanation.top_labels[0],\n",
        "                                 positive_only=False,\n",
        "                                 num_features=i,\n",
        "                                 hide_rest=False,\n",
        "                                 min_weight=0\n",
        "                                )\n",
        "    plt.imshow(mark_boundaries(image, mask))\n",
        "    plt.axis('off')\n",
        "    plt.show()\n",
        "\n"
      ],
      "metadata": {
        "colab": {
          "base_uri": "https://localhost:8080/",
          "height": 1000
        },
        "id": "QqTU0aAXB7dg",
        "outputId": "aa444482-f3aa-4767-93d5-0c474cf72252"
      },
      "execution_count": null,
      "outputs": [
        {
          "output_type": "display_data",
          "data": {
            "text/plain": [
              "<Figure size 640x480 with 1 Axes>"
            ],
            "image/png": "[encoded data removed]"
          },
          "metadata": {}
        },
        {
          "output_type": "display_data",
          "data": {
            "text/plain": [
              "<Figure size 640x480 with 1 Axes>"
            ],
            "image/png": "[encoded data removed]"
          },
          "metadata": {}
        },
        {
          "output_type": "display_data",
          "data": {
            "text/plain": [
              "<Figure size 640x480 with 1 Axes>"
            ],
            "image/png": "[encoded data removed]"
          },
          "metadata": {}
        },
        {
          "output_type": "display_data",
          "data": {
            "text/plain": [
              "<Figure size 640x480 with 1 Axes>"
            ],
            "image/png": "[encoded data removed]"
          },
          "metadata": {}
        }
      ]
    },
    {
      "cell_type": "markdown",
      "source": [
        "**Green superpixels have postive contributions to the prediction (class2) while red ones have negative contribution.**"
      ],
      "metadata": {
        "id": "Zl8pYUUnQ8df"
      }
    },
    {
      "cell_type": "markdown",
      "source": [
        " **Let's have another experiment. We can increase the number of features, superpixels, for example from 100 to 500, and see the results.**"
      ],
      "metadata": {
        "id": "QZy_Olop6bjj"
      }
    },
    {
      "cell_type": "code",
      "source": [
        "segmenter = SegmentationAlgorithm('slic', n_segments=500, compactness=1, sigma=1)\n",
        "ind=[600]\n",
        "test_img=x_test_mstar[ind][0]\n",
        "explainer = lime_image.LimeImageExplainer()\n",
        "\n",
        "explanation = explainer.explain_instance(test_img,\n",
        "                                         classifier_fn = model.predict,\n",
        "                                         top_labels=1, hide_color=0, num_samples=5000, segmentation_fn=segmenter)\n"
      ],
      "metadata": {
        "colab": {
          "base_uri": "https://localhost:8080/",
          "height": 1000,
          "referenced_widgets": [
            "175db9c5b5ba4f6ea1f1ae0af2473afe",
            "a342053bb5a842a982c1a8a54fde61c7",
            "658e768a56c547daae09213e3f7cd238",
            "80c0a1ea57ab47309e51512787dd991b",
            "2cb6693f7deb41b6ad02350f94dcc24b",
            "387b5c5be6d84c3aaf15d17baf5acbd6",
            "14dc122f7c2041c0b2d1dabe30dd9d8d",
            "8055526553514a20b5e7497519754333",
            "63d86f2e25e94af88171506f3d663524",
            "dc268fc350994853af029a95c3e9aaa9",
            "7177f7ef8aab461491e102dfb11284e1"
          ]
        },
        "id": "3MTI7Y_w3htp",
        "outputId": "f7b5f6a5-4b18-4177-df46-c57e2d0b15fb"
      },
      "execution_count": null,
      "outputs": [
        {
          "output_type": "display_data",
          "data": {
            "text/plain": [
              "  0%|          | 0/5000 [00:00<?, ?it/s]"
            ],
            "application/vnd.jupyter.widget-view+json": {
              "version_major": 2,
              "version_minor": 0,
              "model_id": "175db9c5b5ba4f6ea1f1ae0af2473afe"
            }
          },
          "metadata": {}
        },
        {
          "output_type": "stream",
          "name": "stdout",
          "text": [
            "1/1 [==============================] - 0s 35ms/step\n",
            "1/1 [==============================] - 0s 41ms/step\n",
            "1/1 [==============================] - 0s 30ms/step\n",
            "1/1 [==============================] - 0s 28ms/step\n",
            "1/1 [==============================] - 0s 29ms/step\n",
            "1/1 [==============================] - 0s 54ms/step\n",
            "1/1 [==============================] - 0s 46ms/step\n",
            "1/1 [==============================] - 0s 242ms/step\n",
            "1/1 [==============================] - 0s 115ms/step\n",
            "1/1 [==============================] - 0s 159ms/step\n",
            "1/1 [==============================] - 0s 62ms/step\n",
            "1/1 [==============================] - 0s 174ms/step\n",
            "1/1 [==============================] - 0s 220ms/step\n",
            "1/1 [==============================] - 0s 161ms/step\n",
            "1/1 [==============================] - 1s 767ms/step\n",
            "1/1 [==============================] - 0s 102ms/step\n",
            "1/1 [==============================] - 0s 100ms/step\n",
            "1/1 [==============================] - 0s 26ms/step\n",
            "1/1 [==============================] - 0s 25ms/step\n",
            "1/1 [==============================] - 0s 96ms/step\n",
            "1/1 [==============================] - 0s 43ms/step\n",
            "1/1 [==============================] - 0s 36ms/step\n",
            "1/1 [==============================] - 0s 39ms/step\n",
            "1/1 [==============================] - 0s 39ms/step\n",
            "1/1 [==============================] - 0s 41ms/step\n",
            "1/1 [==============================] - 0s 39ms/step\n",
            "1/1 [==============================] - 0s 39ms/step\n",
            "1/1 [==============================] - 0s 51ms/step\n",
            "1/1 [==============================] - 0s 39ms/step\n",
            "1/1 [==============================] - 0s 24ms/step\n",
            "1/1 [==============================] - 0s 24ms/step\n",
            "1/1 [==============================] - 0s 25ms/step\n",
            "1/1 [==============================] - 0s 28ms/step\n",
            "1/1 [==============================] - 0s 26ms/step\n",
            "1/1 [==============================] - 0s 25ms/step\n",
            "1/1 [==============================] - 0s 27ms/step\n",
            "1/1 [==============================] - 0s 36ms/step\n",
            "1/1 [==============================] - 0s 26ms/step\n",
            "1/1 [==============================] - 0s 24ms/step\n",
            "1/1 [==============================] - 0s 24ms/step\n",
            "1/1 [==============================] - 0s 25ms/step\n",
            "1/1 [==============================] - 0s 31ms/step\n",
            "1/1 [==============================] - 0s 26ms/step\n",
            "1/1 [==============================] - 0s 25ms/step\n",
            "1/1 [==============================] - 0s 25ms/step\n",
            "1/1 [==============================] - 0s 28ms/step\n",
            "1/1 [==============================] - 0s 25ms/step\n",
            "1/1 [==============================] - 0s 25ms/step\n",
            "1/1 [==============================] - 0s 29ms/step\n",
            "1/1 [==============================] - 0s 109ms/step\n",
            "1/1 [==============================] - 0s 67ms/step\n",
            "1/1 [==============================] - 0s 55ms/step\n",
            "1/1 [==============================] - 0s 74ms/step\n",
            "1/1 [==============================] - 0s 48ms/step\n",
            "1/1 [==============================] - 0s 40ms/step\n",
            "1/1 [==============================] - 0s 38ms/step\n",
            "1/1 [==============================] - 0s 39ms/step\n",
            "1/1 [==============================] - 0s 92ms/step\n",
            "1/1 [==============================] - 0s 31ms/step\n",
            "1/1 [==============================] - 0s 24ms/step\n",
            "1/1 [==============================] - 0s 26ms/step\n",
            "1/1 [==============================] - 0s 25ms/step\n",
            "1/1 [==============================] - 0s 29ms/step\n",
            "1/1 [==============================] - 0s 28ms/step\n",
            "1/1 [==============================] - 0s 35ms/step\n",
            "1/1 [==============================] - 0s 26ms/step\n",
            "1/1 [==============================] - 0s 26ms/step\n",
            "1/1 [==============================] - 0s 25ms/step\n",
            "1/1 [==============================] - 0s 27ms/step\n",
            "1/1 [==============================] - 0s 25ms/step\n",
            "1/1 [==============================] - 0s 24ms/step\n",
            "1/1 [==============================] - 0s 26ms/step\n",
            "1/1 [==============================] - 0s 25ms/step\n",
            "1/1 [==============================] - 0s 28ms/step\n",
            "1/1 [==============================] - 0s 49ms/step\n",
            "1/1 [==============================] - 0s 25ms/step\n",
            "1/1 [==============================] - 0s 24ms/step\n",
            "1/1 [==============================] - 0s 26ms/step\n",
            "1/1 [==============================] - 0s 27ms/step\n",
            "1/1 [==============================] - 0s 25ms/step\n",
            "1/1 [==============================] - 0s 25ms/step\n",
            "1/1 [==============================] - 0s 29ms/step\n",
            "1/1 [==============================] - 0s 27ms/step\n",
            "1/1 [==============================] - 0s 50ms/step\n",
            "1/1 [==============================] - 0s 40ms/step\n",
            "1/1 [==============================] - 0s 43ms/step\n",
            "1/1 [==============================] - 0s 39ms/step\n",
            "1/1 [==============================] - 0s 35ms/step\n",
            "1/1 [==============================] - 0s 38ms/step\n",
            "1/1 [==============================] - 0s 42ms/step\n",
            "1/1 [==============================] - 0s 38ms/step\n",
            "1/1 [==============================] - 0s 38ms/step\n",
            "1/1 [==============================] - 0s 35ms/step\n",
            "1/1 [==============================] - 0s 41ms/step\n",
            "1/1 [==============================] - 0s 36ms/step\n",
            "1/1 [==============================] - 0s 43ms/step\n",
            "1/1 [==============================] - 0s 36ms/step\n",
            "1/1 [==============================] - 0s 44ms/step\n",
            "1/1 [==============================] - 0s 26ms/step\n",
            "1/1 [==============================] - 0s 26ms/step\n",
            "1/1 [==============================] - 0s 26ms/step\n",
            "1/1 [==============================] - 0s 24ms/step\n",
            "1/1 [==============================] - 0s 25ms/step\n",
            "1/1 [==============================] - 0s 28ms/step\n",
            "1/1 [==============================] - 0s 26ms/step\n",
            "1/1 [==============================] - 0s 25ms/step\n",
            "1/1 [==============================] - 0s 26ms/step\n",
            "1/1 [==============================] - 0s 36ms/step\n",
            "1/1 [==============================] - 0s 25ms/step\n",
            "1/1 [==============================] - 0s 32ms/step\n",
            "1/1 [==============================] - 0s 25ms/step\n",
            "1/1 [==============================] - 0s 27ms/step\n",
            "1/1 [==============================] - 0s 27ms/step\n",
            "1/1 [==============================] - 0s 26ms/step\n",
            "1/1 [==============================] - 0s 27ms/step\n",
            "1/1 [==============================] - 0s 25ms/step\n",
            "1/1 [==============================] - 0s 26ms/step\n",
            "1/1 [==============================] - 0s 29ms/step\n",
            "1/1 [==============================] - 0s 26ms/step\n",
            "1/1 [==============================] - 0s 25ms/step\n",
            "1/1 [==============================] - 0s 24ms/step\n",
            "1/1 [==============================] - 0s 25ms/step\n",
            "1/1 [==============================] - 0s 33ms/step\n",
            "1/1 [==============================] - 0s 26ms/step\n",
            "1/1 [==============================] - 0s 29ms/step\n",
            "1/1 [==============================] - 0s 25ms/step\n",
            "1/1 [==============================] - 0s 25ms/step\n",
            "1/1 [==============================] - 0s 27ms/step\n",
            "1/1 [==============================] - 0s 26ms/step\n",
            "1/1 [==============================] - 0s 25ms/step\n",
            "1/1 [==============================] - 0s 31ms/step\n",
            "1/1 [==============================] - 0s 30ms/step\n",
            "1/1 [==============================] - 0s 27ms/step\n",
            "1/1 [==============================] - 0s 24ms/step\n",
            "1/1 [==============================] - 0s 24ms/step\n",
            "1/1 [==============================] - 0s 24ms/step\n",
            "1/1 [==============================] - 0s 25ms/step\n",
            "1/1 [==============================] - 0s 28ms/step\n",
            "1/1 [==============================] - 0s 26ms/step\n",
            "1/1 [==============================] - 0s 26ms/step\n",
            "1/1 [==============================] - 0s 25ms/step\n",
            "1/1 [==============================] - 0s 26ms/step\n",
            "1/1 [==============================] - 0s 27ms/step\n",
            "1/1 [==============================] - 0s 28ms/step\n",
            "1/1 [==============================] - 0s 25ms/step\n",
            "1/1 [==============================] - 0s 26ms/step\n",
            "1/1 [==============================] - 0s 25ms/step\n",
            "1/1 [==============================] - 0s 38ms/step\n",
            "1/1 [==============================] - 0s 25ms/step\n",
            "1/1 [==============================] - 0s 26ms/step\n",
            "1/1 [==============================] - 0s 25ms/step\n",
            "1/1 [==============================] - 0s 26ms/step\n",
            "1/1 [==============================] - 0s 38ms/step\n",
            "1/1 [==============================] - 0s 37ms/step\n",
            "1/1 [==============================] - 0s 72ms/step\n",
            "1/1 [==============================] - 0s 41ms/step\n",
            "1/1 [==============================] - 0s 42ms/step\n",
            "1/1 [==============================] - 0s 45ms/step\n",
            "1/1 [==============================] - 0s 37ms/step\n",
            "1/1 [==============================] - 0s 39ms/step\n",
            "1/1 [==============================] - 0s 38ms/step\n",
            "1/1 [==============================] - 0s 66ms/step\n",
            "1/1 [==============================] - 0s 41ms/step\n",
            "1/1 [==============================] - 0s 47ms/step\n",
            "1/1 [==============================] - 0s 42ms/step\n",
            "1/1 [==============================] - 0s 42ms/step\n",
            "1/1 [==============================] - 0s 84ms/step\n",
            "1/1 [==============================] - 0s 49ms/step\n",
            "1/1 [==============================] - 0s 40ms/step\n",
            "1/1 [==============================] - 0s 59ms/step\n",
            "1/1 [==============================] - 0s 26ms/step\n",
            "1/1 [==============================] - 0s 28ms/step\n",
            "1/1 [==============================] - 0s 27ms/step\n",
            "1/1 [==============================] - 0s 25ms/step\n",
            "1/1 [==============================] - 0s 26ms/step\n",
            "1/1 [==============================] - 0s 24ms/step\n",
            "1/1 [==============================] - 0s 27ms/step\n",
            "1/1 [==============================] - 0s 26ms/step\n",
            "1/1 [==============================] - 0s 28ms/step\n",
            "1/1 [==============================] - 0s 29ms/step\n",
            "1/1 [==============================] - 0s 42ms/step\n",
            "1/1 [==============================] - 0s 47ms/step\n",
            "1/1 [==============================] - 0s 41ms/step\n",
            "1/1 [==============================] - 0s 41ms/step\n",
            "1/1 [==============================] - 0s 39ms/step\n",
            "1/1 [==============================] - 0s 43ms/step\n",
            "1/1 [==============================] - 0s 41ms/step\n",
            "1/1 [==============================] - 0s 56ms/step\n",
            "1/1 [==============================] - 0s 59ms/step\n",
            "1/1 [==============================] - 0s 102ms/step\n",
            "1/1 [==============================] - 0s 42ms/step\n",
            "1/1 [==============================] - 0s 44ms/step\n",
            "1/1 [==============================] - 0s 51ms/step\n",
            "1/1 [==============================] - 0s 24ms/step\n",
            "1/1 [==============================] - 0s 37ms/step\n",
            "1/1 [==============================] - 0s 41ms/step\n",
            "1/1 [==============================] - 0s 43ms/step\n",
            "1/1 [==============================] - 0s 46ms/step\n",
            "1/1 [==============================] - 0s 45ms/step\n",
            "1/1 [==============================] - 0s 61ms/step\n",
            "1/1 [==============================] - 0s 64ms/step\n",
            "1/1 [==============================] - 0s 43ms/step\n",
            "1/1 [==============================] - 0s 38ms/step\n",
            "1/1 [==============================] - 0s 25ms/step\n",
            "1/1 [==============================] - 0s 28ms/step\n",
            "1/1 [==============================] - 0s 26ms/step\n",
            "1/1 [==============================] - 0s 25ms/step\n",
            "1/1 [==============================] - 0s 25ms/step\n",
            "1/1 [==============================] - 0s 31ms/step\n",
            "1/1 [==============================] - 0s 47ms/step\n",
            "1/1 [==============================] - 0s 52ms/step\n",
            "1/1 [==============================] - 0s 26ms/step\n",
            "1/1 [==============================] - 0s 31ms/step\n",
            "1/1 [==============================] - 0s 52ms/step\n",
            "1/1 [==============================] - 0s 61ms/step\n",
            "1/1 [==============================] - 0s 52ms/step\n",
            "1/1 [==============================] - 0s 44ms/step\n",
            "1/1 [==============================] - 0s 46ms/step\n",
            "1/1 [==============================] - 0s 44ms/step\n",
            "1/1 [==============================] - 0s 42ms/step\n",
            "1/1 [==============================] - 0s 54ms/step\n",
            "1/1 [==============================] - 0s 26ms/step\n",
            "1/1 [==============================] - 0s 29ms/step\n",
            "1/1 [==============================] - 0s 26ms/step\n",
            "1/1 [==============================] - 0s 27ms/step\n",
            "1/1 [==============================] - 0s 26ms/step\n",
            "1/1 [==============================] - 0s 25ms/step\n",
            "1/1 [==============================] - 0s 28ms/step\n",
            "1/1 [==============================] - 0s 31ms/step\n",
            "1/1 [==============================] - 0s 28ms/step\n",
            "1/1 [==============================] - 0s 25ms/step\n",
            "1/1 [==============================] - 0s 25ms/step\n",
            "1/1 [==============================] - 0s 25ms/step\n",
            "1/1 [==============================] - 0s 26ms/step\n",
            "1/1 [==============================] - 0s 26ms/step\n",
            "1/1 [==============================] - 0s 28ms/step\n",
            "1/1 [==============================] - 0s 30ms/step\n",
            "1/1 [==============================] - 0s 30ms/step\n",
            "1/1 [==============================] - 0s 35ms/step\n",
            "1/1 [==============================] - 0s 25ms/step\n",
            "1/1 [==============================] - 0s 27ms/step\n",
            "1/1 [==============================] - 0s 33ms/step\n",
            "1/1 [==============================] - 0s 27ms/step\n",
            "1/1 [==============================] - 0s 27ms/step\n",
            "1/1 [==============================] - 0s 26ms/step\n",
            "1/1 [==============================] - 0s 47ms/step\n",
            "1/1 [==============================] - 0s 49ms/step\n",
            "1/1 [==============================] - 0s 41ms/step\n",
            "1/1 [==============================] - 0s 47ms/step\n",
            "1/1 [==============================] - 0s 57ms/step\n",
            "1/1 [==============================] - 0s 40ms/step\n",
            "1/1 [==============================] - 0s 40ms/step\n",
            "1/1 [==============================] - 0s 56ms/step\n",
            "1/1 [==============================] - 0s 126ms/step\n",
            "1/1 [==============================] - 0s 26ms/step\n",
            "1/1 [==============================] - 0s 27ms/step\n",
            "1/1 [==============================] - 0s 26ms/step\n",
            "1/1 [==============================] - 0s 31ms/step\n",
            "1/1 [==============================] - 0s 26ms/step\n",
            "1/1 [==============================] - 0s 24ms/step\n",
            "1/1 [==============================] - 0s 25ms/step\n",
            "1/1 [==============================] - 0s 28ms/step\n",
            "1/1 [==============================] - 0s 25ms/step\n",
            "1/1 [==============================] - 0s 28ms/step\n",
            "1/1 [==============================] - 0s 27ms/step\n",
            "1/1 [==============================] - 0s 43ms/step\n",
            "1/1 [==============================] - 0s 38ms/step\n",
            "1/1 [==============================] - 0s 37ms/step\n",
            "1/1 [==============================] - 0s 106ms/step\n",
            "1/1 [==============================] - 0s 96ms/step\n",
            "1/1 [==============================] - 0s 85ms/step\n",
            "1/1 [==============================] - 0s 67ms/step\n",
            "1/1 [==============================] - 0s 74ms/step\n",
            "1/1 [==============================] - 0s 60ms/step\n",
            "1/1 [==============================] - 0s 48ms/step\n",
            "1/1 [==============================] - 0s 64ms/step\n",
            "1/1 [==============================] - 0s 39ms/step\n",
            "1/1 [==============================] - 0s 43ms/step\n",
            "1/1 [==============================] - 0s 34ms/step\n",
            "1/1 [==============================] - 0s 25ms/step\n",
            "1/1 [==============================] - 0s 27ms/step\n",
            "1/1 [==============================] - 0s 25ms/step\n",
            "1/1 [==============================] - 0s 26ms/step\n",
            "1/1 [==============================] - 0s 26ms/step\n",
            "1/1 [==============================] - 0s 25ms/step\n",
            "1/1 [==============================] - 0s 29ms/step\n",
            "1/1 [==============================] - 0s 28ms/step\n",
            "1/1 [==============================] - 0s 30ms/step\n",
            "1/1 [==============================] - 0s 25ms/step\n",
            "1/1 [==============================] - 0s 29ms/step\n",
            "1/1 [==============================] - 0s 26ms/step\n",
            "1/1 [==============================] - 0s 25ms/step\n",
            "1/1 [==============================] - 0s 25ms/step\n",
            "1/1 [==============================] - 0s 26ms/step\n",
            "1/1 [==============================] - 0s 27ms/step\n",
            "1/1 [==============================] - 0s 25ms/step\n",
            "1/1 [==============================] - 0s 37ms/step\n",
            "1/1 [==============================] - 0s 25ms/step\n",
            "1/1 [==============================] - 0s 25ms/step\n",
            "1/1 [==============================] - 0s 25ms/step\n",
            "1/1 [==============================] - 0s 25ms/step\n",
            "1/1 [==============================] - 0s 27ms/step\n",
            "1/1 [==============================] - 0s 27ms/step\n",
            "1/1 [==============================] - 0s 28ms/step\n",
            "1/1 [==============================] - 0s 26ms/step\n",
            "1/1 [==============================] - 0s 28ms/step\n",
            "1/1 [==============================] - 0s 26ms/step\n",
            "1/1 [==============================] - 0s 35ms/step\n",
            "1/1 [==============================] - 0s 24ms/step\n",
            "1/1 [==============================] - 0s 25ms/step\n",
            "1/1 [==============================] - 0s 26ms/step\n",
            "1/1 [==============================] - 0s 28ms/step\n",
            "1/1 [==============================] - 0s 25ms/step\n",
            "1/1 [==============================] - 0s 26ms/step\n",
            "1/1 [==============================] - 0s 25ms/step\n",
            "1/1 [==============================] - 0s 24ms/step\n",
            "1/1 [==============================] - 0s 26ms/step\n",
            "1/1 [==============================] - 0s 25ms/step\n",
            "1/1 [==============================] - 0s 28ms/step\n",
            "1/1 [==============================] - 0s 26ms/step\n",
            "1/1 [==============================] - 0s 28ms/step\n",
            "1/1 [==============================] - 0s 26ms/step\n",
            "1/1 [==============================] - 0s 25ms/step\n",
            "1/1 [==============================] - 0s 26ms/step\n",
            "1/1 [==============================] - 0s 27ms/step\n",
            "1/1 [==============================] - 0s 27ms/step\n",
            "1/1 [==============================] - 0s 27ms/step\n",
            "1/1 [==============================] - 0s 29ms/step\n",
            "1/1 [==============================] - 0s 27ms/step\n",
            "1/1 [==============================] - 0s 25ms/step\n",
            "1/1 [==============================] - 0s 25ms/step\n",
            "1/1 [==============================] - 0s 27ms/step\n",
            "1/1 [==============================] - 0s 25ms/step\n",
            "1/1 [==============================] - 0s 25ms/step\n",
            "1/1 [==============================] - 0s 25ms/step\n",
            "1/1 [==============================] - 0s 26ms/step\n",
            "1/1 [==============================] - 0s 35ms/step\n",
            "1/1 [==============================] - 0s 24ms/step\n",
            "1/1 [==============================] - 0s 27ms/step\n",
            "1/1 [==============================] - 0s 26ms/step\n",
            "1/1 [==============================] - 0s 29ms/step\n",
            "1/1 [==============================] - 0s 25ms/step\n",
            "1/1 [==============================] - 0s 25ms/step\n",
            "1/1 [==============================] - 0s 30ms/step\n",
            "1/1 [==============================] - 0s 28ms/step\n",
            "1/1 [==============================] - 0s 26ms/step\n",
            "1/1 [==============================] - 0s 25ms/step\n",
            "1/1 [==============================] - 0s 27ms/step\n",
            "1/1 [==============================] - 0s 27ms/step\n",
            "1/1 [==============================] - 0s 29ms/step\n",
            "1/1 [==============================] - 0s 25ms/step\n",
            "1/1 [==============================] - 0s 29ms/step\n",
            "1/1 [==============================] - 0s 29ms/step\n",
            "1/1 [==============================] - 0s 27ms/step\n",
            "1/1 [==============================] - 0s 26ms/step\n",
            "1/1 [==============================] - 0s 36ms/step\n",
            "1/1 [==============================] - 0s 27ms/step\n",
            "1/1 [==============================] - 0s 26ms/step\n",
            "1/1 [==============================] - 0s 28ms/step\n",
            "1/1 [==============================] - 0s 28ms/step\n",
            "1/1 [==============================] - 0s 28ms/step\n",
            "1/1 [==============================] - 0s 26ms/step\n",
            "1/1 [==============================] - 0s 28ms/step\n",
            "1/1 [==============================] - 0s 26ms/step\n",
            "1/1 [==============================] - 0s 30ms/step\n",
            "1/1 [==============================] - 0s 40ms/step\n",
            "1/1 [==============================] - 0s 38ms/step\n",
            "1/1 [==============================] - 0s 45ms/step\n",
            "1/1 [==============================] - 0s 38ms/step\n",
            "1/1 [==============================] - 0s 42ms/step\n",
            "1/1 [==============================] - 0s 38ms/step\n",
            "1/1 [==============================] - 0s 55ms/step\n",
            "1/1 [==============================] - 0s 39ms/step\n",
            "1/1 [==============================] - 0s 36ms/step\n",
            "1/1 [==============================] - 0s 45ms/step\n",
            "1/1 [==============================] - 0s 43ms/step\n",
            "1/1 [==============================] - 0s 40ms/step\n",
            "1/1 [==============================] - 0s 45ms/step\n",
            "1/1 [==============================] - 0s 38ms/step\n",
            "1/1 [==============================] - 0s 25ms/step\n",
            "1/1 [==============================] - 0s 27ms/step\n",
            "1/1 [==============================] - 0s 28ms/step\n",
            "1/1 [==============================] - 0s 27ms/step\n",
            "1/1 [==============================] - 0s 28ms/step\n",
            "1/1 [==============================] - 0s 29ms/step\n",
            "1/1 [==============================] - 0s 27ms/step\n",
            "1/1 [==============================] - 0s 38ms/step\n",
            "1/1 [==============================] - 0s 31ms/step\n",
            "1/1 [==============================] - 0s 29ms/step\n",
            "1/1 [==============================] - 0s 27ms/step\n",
            "1/1 [==============================] - 0s 28ms/step\n",
            "1/1 [==============================] - 0s 27ms/step\n",
            "1/1 [==============================] - 0s 26ms/step\n",
            "1/1 [==============================] - 0s 27ms/step\n",
            "1/1 [==============================] - 0s 31ms/step\n",
            "1/1 [==============================] - 0s 26ms/step\n",
            "1/1 [==============================] - 0s 28ms/step\n",
            "1/1 [==============================] - 0s 26ms/step\n",
            "1/1 [==============================] - 0s 28ms/step\n",
            "1/1 [==============================] - 0s 26ms/step\n",
            "1/1 [==============================] - 0s 25ms/step\n",
            "1/1 [==============================] - 0s 26ms/step\n",
            "1/1 [==============================] - 0s 28ms/step\n",
            "1/1 [==============================] - 0s 26ms/step\n",
            "1/1 [==============================] - 0s 27ms/step\n",
            "1/1 [==============================] - 0s 29ms/step\n",
            "1/1 [==============================] - 0s 28ms/step\n",
            "1/1 [==============================] - 0s 28ms/step\n",
            "1/1 [==============================] - 0s 25ms/step\n",
            "1/1 [==============================] - 0s 26ms/step\n",
            "1/1 [==============================] - 0s 26ms/step\n",
            "1/1 [==============================] - 0s 26ms/step\n",
            "1/1 [==============================] - 0s 26ms/step\n",
            "1/1 [==============================] - 0s 30ms/step\n",
            "1/1 [==============================] - 0s 32ms/step\n",
            "1/1 [==============================] - 0s 26ms/step\n",
            "1/1 [==============================] - 0s 25ms/step\n",
            "1/1 [==============================] - 0s 28ms/step\n",
            "1/1 [==============================] - 0s 28ms/step\n",
            "1/1 [==============================] - 0s 26ms/step\n",
            "1/1 [==============================] - 0s 24ms/step\n",
            "1/1 [==============================] - 0s 25ms/step\n",
            "1/1 [==============================] - 0s 25ms/step\n",
            "1/1 [==============================] - 0s 29ms/step\n",
            "1/1 [==============================] - 0s 41ms/step\n",
            "1/1 [==============================] - 0s 29ms/step\n",
            "1/1 [==============================] - 0s 29ms/step\n",
            "1/1 [==============================] - 0s 25ms/step\n",
            "1/1 [==============================] - 0s 26ms/step\n",
            "1/1 [==============================] - 0s 25ms/step\n",
            "1/1 [==============================] - 0s 33ms/step\n",
            "1/1 [==============================] - 0s 25ms/step\n",
            "1/1 [==============================] - 0s 26ms/step\n",
            "1/1 [==============================] - 0s 26ms/step\n",
            "1/1 [==============================] - 0s 28ms/step\n",
            "1/1 [==============================] - 0s 27ms/step\n",
            "1/1 [==============================] - 0s 26ms/step\n",
            "1/1 [==============================] - 0s 27ms/step\n",
            "1/1 [==============================] - 0s 28ms/step\n",
            "1/1 [==============================] - 0s 26ms/step\n",
            "1/1 [==============================] - 0s 25ms/step\n",
            "1/1 [==============================] - 0s 25ms/step\n",
            "1/1 [==============================] - 0s 30ms/step\n",
            "1/1 [==============================] - 0s 28ms/step\n",
            "1/1 [==============================] - 0s 26ms/step\n",
            "1/1 [==============================] - 0s 28ms/step\n",
            "1/1 [==============================] - 0s 27ms/step\n",
            "1/1 [==============================] - 0s 26ms/step\n",
            "1/1 [==============================] - 0s 26ms/step\n",
            "1/1 [==============================] - 0s 27ms/step\n",
            "1/1 [==============================] - 0s 30ms/step\n",
            "1/1 [==============================] - 0s 28ms/step\n",
            "1/1 [==============================] - 0s 29ms/step\n",
            "1/1 [==============================] - 0s 25ms/step\n",
            "1/1 [==============================] - 0s 26ms/step\n",
            "1/1 [==============================] - 0s 29ms/step\n",
            "1/1 [==============================] - 0s 25ms/step\n",
            "1/1 [==============================] - 0s 25ms/step\n",
            "1/1 [==============================] - 0s 29ms/step\n",
            "1/1 [==============================] - 0s 28ms/step\n",
            "1/1 [==============================] - 0s 26ms/step\n",
            "1/1 [==============================] - 0s 26ms/step\n",
            "1/1 [==============================] - 0s 25ms/step\n",
            "1/1 [==============================] - 0s 25ms/step\n",
            "1/1 [==============================] - 0s 26ms/step\n",
            "1/1 [==============================] - 0s 29ms/step\n",
            "1/1 [==============================] - 0s 25ms/step\n",
            "1/1 [==============================] - 0s 28ms/step\n",
            "1/1 [==============================] - 0s 27ms/step\n",
            "1/1 [==============================] - 0s 26ms/step\n",
            "1/1 [==============================] - 0s 35ms/step\n",
            "1/1 [==============================] - 0s 38ms/step\n",
            "1/1 [==============================] - 0s 43ms/step\n",
            "1/1 [==============================] - 0s 39ms/step\n",
            "1/1 [==============================] - 0s 36ms/step\n",
            "1/1 [==============================] - 0s 48ms/step\n",
            "1/1 [==============================] - 0s 40ms/step\n",
            "1/1 [==============================] - 0s 49ms/step\n",
            "1/1 [==============================] - 0s 37ms/step\n",
            "1/1 [==============================] - 0s 36ms/step\n",
            "1/1 [==============================] - 0s 36ms/step\n",
            "1/1 [==============================] - 0s 43ms/step\n",
            "1/1 [==============================] - 0s 38ms/step\n",
            "1/1 [==============================] - 0s 43ms/step\n",
            "1/1 [==============================] - 0s 48ms/step\n",
            "1/1 [==============================] - 0s 35ms/step\n",
            "1/1 [==============================] - 0s 25ms/step\n",
            "1/1 [==============================] - 0s 25ms/step\n",
            "1/1 [==============================] - 0s 26ms/step\n",
            "1/1 [==============================] - 0s 26ms/step\n",
            "1/1 [==============================] - 0s 26ms/step\n",
            "1/1 [==============================] - 0s 31ms/step\n",
            "1/1 [==============================] - 0s 29ms/step\n",
            "1/1 [==============================] - 0s 26ms/step\n",
            "1/1 [==============================] - 0s 26ms/step\n",
            "1/1 [==============================] - 0s 24ms/step\n",
            "1/1 [==============================] - 0s 27ms/step\n",
            "1/1 [==============================] - 0s 27ms/step\n",
            "1/1 [==============================] - 0s 26ms/step\n",
            "1/1 [==============================] - 0s 24ms/step\n"
          ]
        }
      ]
    },
    {
      "cell_type": "code",
      "source": [
        "for i in range (1,20):\n",
        "    image, mask = explanation.get_image_and_mask(explanation.top_labels[0],\n",
        "                                 positive_only=False,\n",
        "                                 num_features=i,\n",
        "                                 hide_rest=False,\n",
        "                                 min_weight=0\n",
        "                                )\n",
        "    plt.imshow(mark_boundaries(image, mask))\n",
        "    plt.axis('off')\n",
        "    plt.show()"
      ],
      "metadata": {
        "colab": {
          "base_uri": "https://localhost:8080/",
          "height": 1000
        },
        "id": "Ri6mLrwZSIqs",
        "outputId": "836f8ac5-1779-4126-808a-d46bfa7ce8b3"
      },
      "execution_count": null,
      "outputs": [
        {
          "output_type": "display_data",
          "data": {
            "text/plain": [
              "<Figure size 640x480 with 1 Axes>"
            ],
            "image/png": "[encoded data removed]"
          },
          "metadata": {}
        },
        {
          "output_type": "display_data",
          "data": {
            "text/plain": [
              "<Figure size 640x480 with 1 Axes>"
            ],
            "image/png": "[encoded data removed]"
          },
          "metadata": {}
        },
        {
          "output_type": "display_data",
          "data": {
            "text/plain": [
              "<Figure size 640x480 with 1 Axes>"
            ],
            "image/png": "[encoded data removed]"
          },
          "metadata": {}
        },
        {
          "output_type": "display_data",
          "data": {
            "text/plain": [
              "<Figure size 640x480 with 1 Axes>"
            ],
            "image/png": "[encoded data removed]"
          },
          "metadata": {}
        },
        {
          "output_type": "display_data",
          "data": {
            "text/plain": [
              "<Figure size 640x480 with 1 Axes>"
            ],
            "image/png": "[encoded data removed]"
          },
          "metadata": {}
        },
        {
          "output_type": "display_data",
          "data": {
            "text/plain": [
              "<Figure size 640x480 with 1 Axes>"
            ],
            "image/png": "[encoded data removed]"
          },
          "metadata": {}
        },
        {
          "output_type": "display_data",
          "data": {
            "text/plain": [
              "<Figure size 640x480 with 1 Axes>"
            ],
            "image/png": "[encoded data removed]"
          },
          "metadata": {}
        },
        {
          "output_type": "display_data",
          "data": {
            "text/plain": [
              "<Figure size 640x480 with 1 Axes>"
            ],
            "image/png": "[encoded data removed]"
          },
          "metadata": {}
        },
        {
          "output_type": "display_data",
          "data": {
            "text/plain": [
              "<Figure size 640x480 with 1 Axes>"
            ],
            "image/png": "[encoded data removed]"
          },
          "metadata": {}
        },
        {
          "output_type": "display_data",
          "data": {
            "text/plain": [
              "<Figure size 640x480 with 1 Axes>"
            ],
            "image/png": "[encoded data removed]"
          },
          "metadata": {}
        },
        {
          "output_type": "display_data",
          "data": {
            "text/plain": [
              "<Figure size 640x480 with 1 Axes>"
            ],
            "image/png": "[encoded data removed]"
          },
          "metadata": {}
        },
        {
          "output_type": "display_data",
          "data": {
            "text/plain": [
              "<Figure size 640x480 with 1 Axes>"
            ],
            "image/png": "[encoded data removed]"
          },
          "metadata": {}
        },
        {
          "output_type": "display_data",
          "data": {
            "text/plain": [
              "<Figure size 640x480 with 1 Axes>"
            ],
            "image/png": "[encoded data removed]"
          },
          "metadata": {}
        },
        {
          "output_type": "display_data",
          "data": {
            "text/plain": [
              "<Figure size 640x480 with 1 Axes>"
            ],
            "image/png": "[encoded data removed]"
          },
          "metadata": {}
        },
        {
          "output_type": "display_data",
          "data": {
            "text/plain": [
              "<Figure size 640x480 with 1 Axes>"
            ],
            "image/png": "[encoded data removed]"
          },
          "metadata": {}
        },
        {
          "output_type": "display_data",
          "data": {
            "text/plain": [
              "<Figure size 640x480 with 1 Axes>"
            ],
            "image/png": "[encoded data removed]"
          },
          "metadata": {}
        },
        {
          "output_type": "display_data",
          "data": {
            "text/plain": [
              "<Figure size 640x480 with 1 Axes>"
            ],
            "image/png": "[encoded data removed]"
          },
          "metadata": {}
        },
        {
          "output_type": "display_data",
          "data": {
            "text/plain": [
              "<Figure size 640x480 with 1 Axes>"
            ],
            "image/png": "[encoded data removed]"
          },
          "metadata": {}
        },
        {
          "output_type": "display_data",
          "data": {
            "text/plain": [
              "<Figure size 640x480 with 1 Axes>"
            ],
            "image/png": "[encoded data removed]"
          },
          "metadata": {}
        }
      ]
    },
    {
      "cell_type": "markdown",
      "source": [
        "**We can see that by increasing the number of superpixels (to 500) each superpixel becomes smaller. Moreover, by using an increased number of superpixels (up to 20), still the target area is influencing the model's output**"
      ],
      "metadata": {
        "id": "RkZGVKDi6wfv"
      }
    }
  ]
}